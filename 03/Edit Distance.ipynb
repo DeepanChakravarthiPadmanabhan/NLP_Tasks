{
 "cells": [
  {
   "cell_type": "markdown",
   "metadata": {
    "deletable": false,
    "editable": false,
    "nbgrader": {
     "cell_type": "markdown",
     "checksum": "fd4dc6718ea0b7b66da33b181c834c83",
     "grade": false,
     "grade_id": "header",
     "locked": true,
     "schema_version": 3,
     "solution": false,
     "task": false
    }
   },
   "source": [
    "<div class=\"alert alert-block alert-info\">\n",
    "    <h1>Natural Language Processing</h1>\n",
    "    <h3>General Information:</h3>\n",
    "    <p>Please do not add or delete any cells. Answers belong into the corresponding cells (below the question). If a function is given (either as a signature or a full function), you should not change the name, arguments or return value of the function.<br><br> If you encounter empty cells underneath the answer that can not be edited, please ignore them, they are for testing purposes.<br><br>When editing an assignment there can be the case that there are variables in the kernel. To make sure your assignment works, please restart the kernel and run all cells before submitting (e.g. via <i>Kernel -> Restart & Run All</i>).</p>\n",
    "    <p>Code cells where you are supposed to give your answer often include the line  ```raise NotImplementedError```. This makes it easier to automatically grade answers. If you edit the cell please outcomment or delete this line.</p>\n",
    "    <h3>Submission:</h3>\n",
    "    <p>Please submit your notebook via the web interface (in the main view -> Assignments -> Submit). The assignments are due on <b>Wednesday at 15:00</b>. If this does not work there is a submission slot on LEA.</p>\n",
    "    <h3>Group Work:</h3>\n",
    "    <p>You are allowed to work in groups of up to two people. Please enter the UID (your username here) of each member of the group into the next cell. We apply plagiarism checking, so do not submit solutions from other people except your team members. If an assignment has a copied solution, the task will be graded with 0 points for all people with the same solution.</p>\n",
    "    <h3>Questions about the Assignment:</h3>\n",
    "    <p>If you have questions about the assignment please post them in the LEA forum before the deadline. Don't wait until the last day to post questions.</p>\n",
    "    \n",
    "</div>"
   ]
  },
  {
   "cell_type": "code",
   "execution_count": 1,
   "metadata": {},
   "outputs": [],
   "source": [
    "'''\n",
    "Group Work:\n",
    "Enter the UID of each team member into the variables. \n",
    "If you work alone please leave the second variable empty.\n",
    "'''\n",
    "member1 = 'dpadma2s'\n",
    "member2 = 'smuthi2s'"
   ]
  },
  {
   "cell_type": "markdown",
   "metadata": {
    "deletable": false,
    "editable": false,
    "nbgrader": {
     "cell_type": "markdown",
     "checksum": "3051f7e6eed499309fed301f8818ca8d",
     "grade": false,
     "grade_id": "editdistance1_editdistance2_editdistance3_description",
     "locked": true,
     "schema_version": 3,
     "solution": false,
     "task": false
    }
   },
   "source": [
    "# Edit Distance\n",
    "\n",
    "We want to calculate the edit distance between a list of pairs of words.\n",
    "\n",
    "The allowed operations are:\n",
    "\n",
    "- Deletion (delete one character)\n",
    "- Insertion (add one character)\n",
    "- Substituion (exchange one character for another)"
   ]
  },
  {
   "cell_type": "markdown",
   "metadata": {
    "deletable": false,
    "editable": false,
    "nbgrader": {
     "cell_type": "markdown",
     "checksum": "a4f32826ced807f6c5c3eefb4c97c8f9",
     "grade": false,
     "grade_id": "editdistance1_description",
     "locked": true,
     "schema_version": 3,
     "solution": false,
     "task": false
    }
   },
   "source": [
    "## 1.1) Deletion [5 Points]\n",
    "\n",
    "Write a function ```delete(word, char_index)``` that deletes the character at index ```char_index``` from the word ```word``` and returns the resulting string."
   ]
  },
  {
   "cell_type": "code",
   "execution_count": 5,
   "metadata": {
    "deletable": false,
    "nbgrader": {
     "cell_type": "code",
     "checksum": "ccba2884cd94f32498373dd278f31b04",
     "grade": false,
     "grade_id": "editdistance1",
     "locked": false,
     "schema_version": 3,
     "solution": true,
     "task": false
    }
   },
   "outputs": [
    {
     "name": "stdout",
     "output_type": "stream",
     "text": [
      "lanuage\n"
     ]
    }
   ],
   "source": [
    "def delete(word: str, char_index: int) -> str:\n",
    "    word = word[:char_index] + word[(char_index+1):]\n",
    "    return word\n",
    "    \n",
    "print(delete('language', 3)) # Should print lanuage"
   ]
  },
  {
   "cell_type": "code",
   "execution_count": null,
   "metadata": {
    "deletable": false,
    "editable": false,
    "nbgrader": {
     "cell_type": "code",
     "checksum": "212996ba5eefeb414391bf7be7f112aa",
     "grade": true,
     "grade_id": "test_editdistance1",
     "locked": true,
     "points": 5,
     "schema_version": 3,
     "solution": false,
     "task": false
    }
   },
   "outputs": [],
   "source": [
    "# This is a test cell, please ignore it!"
   ]
  },
  {
   "cell_type": "markdown",
   "metadata": {
    "deletable": false,
    "editable": false,
    "nbgrader": {
     "cell_type": "markdown",
     "checksum": "56bf2d5b3cb6b1acf7a82d142b48ea4f",
     "grade": false,
     "grade_id": "editdistance2_description",
     "locked": true,
     "schema_version": 3,
     "solution": false,
     "task": false
    }
   },
   "source": [
    "## 1.2) Insertion [5 Points]\n",
    "\n",
    "Write a function ```insert(word, char_index, char)``` which inserts the character ```char``` into the word ```word``` at index ```char_index```."
   ]
  },
  {
   "cell_type": "code",
   "execution_count": 10,
   "metadata": {
    "deletable": false,
    "nbgrader": {
     "cell_type": "code",
     "checksum": "ff9584e66cb2abe7edb9d77d204f1fe3",
     "grade": false,
     "grade_id": "editdistance2",
     "locked": false,
     "schema_version": 3,
     "solution": true,
     "task": false
    }
   },
   "outputs": [
    {
     "name": "stdout",
     "output_type": "stream",
     "text": [
      "lanbguage\n"
     ]
    }
   ],
   "source": [
    "def insert(word: str, char_index: int, char: str) -> str:\n",
    "    word = word[:char_index] + char + word[(char_index):]\n",
    "    return word\n",
    "    \n",
    "print(insert('language', 3, 'b')) # Should print lanbguage"
   ]
  },
  {
   "cell_type": "code",
   "execution_count": null,
   "metadata": {
    "deletable": false,
    "editable": false,
    "nbgrader": {
     "cell_type": "code",
     "checksum": "941c07b78f6a3135d35f64b624f43e37",
     "grade": true,
     "grade_id": "test_editdistance2",
     "locked": true,
     "points": 5,
     "schema_version": 3,
     "solution": false,
     "task": false
    }
   },
   "outputs": [],
   "source": [
    "# This is a test cell, please ignore it!"
   ]
  },
  {
   "cell_type": "markdown",
   "metadata": {
    "deletable": false,
    "editable": false,
    "nbgrader": {
     "cell_type": "markdown",
     "checksum": "c560c0e21ef90eda7a6899a28076418b",
     "grade": false,
     "grade_id": "editdistance3_description",
     "locked": true,
     "schema_version": 3,
     "solution": false,
     "task": false
    }
   },
   "source": [
    "## 1.3) Substitution [5 Points]\n",
    "\n",
    "Write a function ```substitute(word, char_index, char)``` which replaces the character at index ```char_index``` of the word ```word``` with the character ```char```."
   ]
  },
  {
   "cell_type": "code",
   "execution_count": 11,
   "metadata": {
    "deletable": false,
    "nbgrader": {
     "cell_type": "code",
     "checksum": "76f6fb598c66d17a1472abb515c36dfa",
     "grade": false,
     "grade_id": "editdistance3",
     "locked": false,
     "schema_version": 3,
     "solution": true,
     "task": false
    }
   },
   "outputs": [
    {
     "name": "stdout",
     "output_type": "stream",
     "text": [
      "lanbuage\n"
     ]
    }
   ],
   "source": [
    "def substitute(word: str, char_index: int, char: str) -> str:\n",
    "    word = word[:char_index] + char + word[(char_index+1):]\n",
    "    return word\n",
    "    \n",
    "print(substitute('language', 3, 'b')) # Should print lanbuage"
   ]
  },
  {
   "cell_type": "code",
   "execution_count": null,
   "metadata": {
    "deletable": false,
    "editable": false,
    "nbgrader": {
     "cell_type": "code",
     "checksum": "c3048a8c6a08f9228ac22c85cb269118",
     "grade": true,
     "grade_id": "test_editdistance3",
     "locked": true,
     "points": 5,
     "schema_version": 3,
     "solution": false,
     "task": false
    }
   },
   "outputs": [],
   "source": [
    "# This is a test cell, please ignore it!"
   ]
  },
  {
   "cell_type": "markdown",
   "metadata": {
    "deletable": false,
    "editable": false,
    "nbgrader": {
     "cell_type": "markdown",
     "checksum": "19d56636f5494dd808e3d41755c32cc6",
     "grade": false,
     "grade_id": "branchingfactor_description",
     "locked": true,
     "schema_version": 3,
     "solution": false,
     "task": false
    }
   },
   "source": [
    "## 2) Branching Factor [5 Points]\n",
    "\n",
    "Given the word ```language``` and assuming we only work with the lower case letters of the English alphabet (a-z), how many branches do we have from the word ```language```, using only substituion, deletion and insertion?\n",
    "\n",
    "Give the number of:\n",
    "- deletions\n",
    "- insertions\n",
    "- substitutions\n",
    "\n",
    "Save them in corresponding variables (```n_delete```, ```n_insert``` and ```n_substitute```).\n",
    "\n",
    "*Hint: You can calculate this by hand, too*"
   ]
  },
  {
   "cell_type": "code",
   "execution_count": null,
   "metadata": {
    "deletable": false,
    "nbgrader": {
     "cell_type": "code",
     "checksum": "9027a15f36e3d0a3d614f6d522674e23",
     "grade": false,
     "grade_id": "branchingfactor",
     "locked": false,
     "schema_version": 3,
     "solution": true,
     "task": false
    }
   },
   "outputs": [],
   "source": [
    "n_delete = 0\n",
    "n_insert = 0\n",
    "n_substitute = 0\n",
    "\n",
    "\n",
    "\n",
    "print('There are {} deletions, {} insertions and {} substitutions.'.format(n_delete, n_insert, n_substitute))"
   ]
  },
  {
   "cell_type": "code",
   "execution_count": null,
   "metadata": {
    "deletable": false,
    "editable": false,
    "nbgrader": {
     "cell_type": "code",
     "checksum": "ea052ed54549f0c47c03b3dea2f1b18b",
     "grade": true,
     "grade_id": "test_branchingfactor",
     "locked": true,
     "points": 5,
     "schema_version": 3,
     "solution": false,
     "task": false
    }
   },
   "outputs": [],
   "source": [
    "# This is a test cell, please ignore it!"
   ]
  },
  {
   "cell_type": "markdown",
   "metadata": {
    "deletable": false,
    "editable": false,
    "nbgrader": {
     "cell_type": "markdown",
     "checksum": "a27bc0f5a4fc5018654d315a57961f75",
     "grade": false,
     "grade_id": "levenshtein_description",
     "locked": true,
     "schema_version": 3,
     "solution": false,
     "task": false
    }
   },
   "source": [
    "## 3.1) Levenshtein Edit Distance [25 Points]\n",
    "\n",
    "Implement the algorithm given in the slideset 1A - Edit Distance on slide 14.\n",
    "\n",
    "The function ```levenshtein(word, other_word)``` takes in two words and calculates the distance as an integer. Please complete the function and test with the example on the slides.\n",
    "\n",
    "Comment your code to explain what each step is doing. We expect you to be able to explain your solution in class so don't copy solutions from the Internet.\n",
    "\n",
    "*Hint: To create a matrix in Python you can use the numpy package. The command ```np.zeros((r, c), dtype=int)``` creates a matrix with ```r``` rows and ```c``` columns of type ```int``` which is filled with zeros.*"
   ]
  },
  {
   "cell_type": "code",
   "execution_count": 75,
   "metadata": {
    "deletable": false,
    "nbgrader": {
     "cell_type": "code",
     "checksum": "20a064f37f11928936e312e1f6e0159a",
     "grade": false,
     "grade_id": "levenshtein",
     "locked": false,
     "schema_version": 3,
     "solution": true,
     "task": false
    }
   },
   "outputs": [
    {
     "name": "stdout",
     "output_type": "stream",
     "text": [
      "8\n"
     ]
    }
   ],
   "source": [
    "import numpy as np\n",
    "\n",
    "def levenshtein(word: str, other_word: str) -> int:\n",
    "    \n",
    "    m = len(word)\n",
    "    n = len(other_word)\n",
    "    \n",
    "    # Table to store complete levenshtein distance for sub-strings.\n",
    "    D = np.zeros((m+1, n+1), dtype=np.int64)\n",
    "    substitution_cost = 2\n",
    "    # Iterative solution\n",
    "    # Filling the strings in bottom up manner\n",
    "    for i in range(m+1):\n",
    "        for j in range(n+1):\n",
    "            \n",
    "            # If first string is empty, copy all the characters\n",
    "            # of second string into first string.\n",
    "            if i == 0:\n",
    "                D[i][j] = j\n",
    "                \n",
    "            # If second string is empty, copy all the characters\n",
    "            # of first string into second string.\n",
    "            elif j == 0:\n",
    "                D[i][j] = i            \n",
    "            \n",
    "            else:                 \n",
    "                # Levenshtein distance formula. \n",
    "                D[i][j] = min(D[i-1][j] + 1,\n",
    "                              D[i][j-1] + 1,\n",
    "                              D[i-1][j-1] + \n",
    "                              (0 if word[i-1] == other_word[j-1] else substitution_cost))\n",
    "    \n",
    "#     print('Levenshtein distance matrix:')\n",
    "#     for i in range(m+1):\n",
    "#         print(D[i])\n",
    "#     print('\\n')\n",
    "                \n",
    "    return D[i][j]\n",
    "    \n",
    "print(levenshtein('intention', 'execution')) # Expected output is 8"
   ]
  },
  {
   "cell_type": "code",
   "execution_count": null,
   "metadata": {
    "deletable": false,
    "editable": false,
    "nbgrader": {
     "cell_type": "code",
     "checksum": "8ced2519a742aae005f1dfafb81c0bec",
     "grade": true,
     "grade_id": "test_levenshtein",
     "locked": true,
     "points": 25,
     "schema_version": 3,
     "solution": false,
     "task": false
    }
   },
   "outputs": [],
   "source": [
    "# This is a test cell, please ignore it!"
   ]
  },
  {
   "cell_type": "markdown",
   "metadata": {
    "deletable": false,
    "editable": false,
    "nbgrader": {
     "cell_type": "markdown",
     "checksum": "8e017c1d12ea794dece0686a612f94dd",
     "grade": false,
     "grade_id": "min_edit_distance_description",
     "locked": true,
     "schema_version": 3,
     "solution": false,
     "task": false
    }
   },
   "source": [
    "## 3.2) Finding Words with Minimum and Maximum Edit Distance [10 Points]\n",
    "\n",
    "You are given a list of words from the book ```Emma``` by Jane Austen (see next cell).\n",
    "\n",
    "Find the words with the minimum edit distance to the following words:\n",
    "\n",
    "- consequently\n",
    "- intelligence\n",
    "- delights\n",
    "\n",
    "Save your answer in as a list of tuples.\n",
    "Each tuple should contain the word (e.g. intelligence), the word with the minimum edit distance and the distance. Use your levensthein function for this.\n",
    "\n",
    "Example: ```solution = [('telling', 'felling', 2), ...]```\n",
    "\n",
    "*Hint: If the next cell throws an error regarding missing files, execute the following in a new cell and try again:*\n",
    "\n",
    "```\n",
    "import nltk\n",
    "nltk.download('gutenberg')\n",
    "```"
   ]
  },
  {
   "cell_type": "code",
   "execution_count": null,
   "metadata": {
    "deletable": false,
    "nbgrader": {
     "cell_type": "code",
     "checksum": "13615542fde73dc741bce6ae61f02b8e",
     "grade": false,
     "grade_id": "min_edit_distance",
     "locked": false,
     "schema_version": 3,
     "solution": true,
     "task": false
    }
   },
   "outputs": [],
   "source": [
    "from nltk.corpus import gutenberg\n",
    "\n",
    "words = set(gutenberg.words('austen-emma.txt'))\n",
    "\n",
    "solution = []\n",
    "# YOUR CODE HERE\n",
    "raise NotImplementedError()\n",
    "print(solution)"
   ]
  },
  {
   "cell_type": "code",
   "execution_count": null,
   "metadata": {
    "deletable": false,
    "editable": false,
    "nbgrader": {
     "cell_type": "code",
     "checksum": "538a14d745655274e0100cbec7026b39",
     "grade": true,
     "grade_id": "test_min_edit_distance",
     "locked": true,
     "points": 10,
     "schema_version": 3,
     "solution": false,
     "task": false
    }
   },
   "outputs": [],
   "source": [
    "# This is a test cell, please ignore it!"
   ]
  },
  {
   "cell_type": "markdown",
   "metadata": {
    "deletable": false,
    "editable": false,
    "nbgrader": {
     "cell_type": "markdown",
     "checksum": "4870d5aa14e74e620705e7b6a70cadff",
     "grade": false,
     "grade_id": "spellchecker_description",
     "locked": true,
     "schema_version": 3,
     "solution": false,
     "task": false
    }
   },
   "source": [
    "## 4.1) Statistical Spell Checker [35 Points]\n",
    "\n",
    "We now want to build a statistical spell checker. The main idea is to have a dictionary of words and how often they appear in a certain training set and use this for looking up the probability of a word.\n",
    "\n",
    "Now we take in a potentially mispelled word and do the following:\n",
    "\n",
    "1. If the word is in our dictionary, return the word\n",
    "2. Else create all possible edits of the word by deleting, inserting and substituting.\n",
    "3. For these edits, check if they are in our dictionary and return the one with the max count\n",
    "4. If none of the edits are in the dictionary, return the original word"
   ]
  },
  {
   "cell_type": "code",
   "execution_count": null,
   "metadata": {
    "deletable": false,
    "nbgrader": {
     "cell_type": "code",
     "checksum": "c9f2b50b11c1ce8633deca8b27976188",
     "grade": false,
     "grade_id": "spellchecker",
     "locked": false,
     "schema_version": 3,
     "solution": true,
     "task": false
    }
   },
   "outputs": [],
   "source": [
    "from typing import Dict\n",
    "from collections import Counter\n",
    "\n",
    "class Spellchecker:\n",
    "    \n",
    "    def __init__(self, counts: Dict[str, int]):\n",
    "        # YOUR CODE HERE\n",
    "        raise NotImplementedError()\n",
    "        \n",
    "    def correct(self, word: str) -> str:\n",
    "        '''\n",
    "        Take a word and return the corrected word\n",
    "        \n",
    "        Arguments:\n",
    "            word       -- word to correct\n",
    "        Returns:\n",
    "            correction -- corrected word or word itself if no correction was found\n",
    "        '''\n",
    "        # YOUR CODE HERE\n",
    "        raise NotImplementedError()\n",
    "        \n",
    "    # Here you can implement helper functions\n",
    "    # YOUR CODE HERE\n",
    "    raise NotImplementedError()\n",
    "    \n",
    "    \n",
    "# Load in the words from Jane Austens Emma and count their occurence (lowercase)\n",
    "counts = Counter([w.lower() for w in gutenberg.words('austen-emma.txt')])\n",
    "\n",
    "# Create the spellchecker\n",
    "speller = Spellchecker(counts)\n",
    "\n",
    "# Correct the word kanguage\n",
    "print(speller.correct('kanguage'))"
   ]
  },
  {
   "cell_type": "code",
   "execution_count": null,
   "metadata": {
    "deletable": false,
    "editable": false,
    "nbgrader": {
     "cell_type": "code",
     "checksum": "a8b771ac345a72815bfb426b4ee0f466",
     "grade": true,
     "grade_id": "test_spellchecker",
     "locked": true,
     "points": 35,
     "schema_version": 3,
     "solution": false,
     "task": false
    }
   },
   "outputs": [],
   "source": [
    "# This is a test cell, please ignore it!"
   ]
  },
  {
   "cell_type": "markdown",
   "metadata": {
    "deletable": false,
    "editable": false,
    "nbgrader": {
     "cell_type": "markdown",
     "checksum": "ca66c5a2b6306e96e28ce9b03462ace5",
     "grade": false,
     "grade_id": "spellsentence_description",
     "locked": true,
     "schema_version": 3,
     "solution": false,
     "task": false
    }
   },
   "source": [
    "## 4.2) Application of Spellchecker [10 Points]\n",
    "\n",
    "Please use your spellchecker together with regular expressions to correct the sentences given in the list ```sentences``` and save the corrected version (as a single string, not as a list of words) in the list ```corrected```."
   ]
  },
  {
   "cell_type": "code",
   "execution_count": null,
   "metadata": {
    "deletable": false,
    "nbgrader": {
     "cell_type": "code",
     "checksum": "69a7d542ac5babe4d0ea1adb029a158c",
     "grade": false,
     "grade_id": "spellsentence",
     "locked": false,
     "schema_version": 3,
     "solution": true,
     "task": false
    }
   },
   "outputs": [],
   "source": [
    "import re\n",
    "\n",
    "sentences = [\n",
    "    'shi waas sleiping',\n",
    "    'hi ws saing frendly zhings',\n",
    "    'zhe doug clan walg frast',\n",
    "    'emmo bpy kane usten'\n",
    "]\n",
    "\n",
    "corrected = []\n",
    "\n",
    "# YOUR CODE HERE\n",
    "raise NotImplementedError()\n",
    "\n",
    "for correction in corrected:\n",
    "    print(correction)"
   ]
  },
  {
   "cell_type": "code",
   "execution_count": null,
   "metadata": {
    "deletable": false,
    "editable": false,
    "nbgrader": {
     "cell_type": "code",
     "checksum": "6fb6a18083627588dd6e1127a4b6d174",
     "grade": true,
     "grade_id": "test_spellsentence",
     "locked": true,
     "points": 10,
     "schema_version": 3,
     "solution": false,
     "task": false
    }
   },
   "outputs": [],
   "source": [
    "# This is a test cell, please ignore it!"
   ]
  }
 ],
 "metadata": {
  "kernelspec": {
   "display_name": "Python (study)",
   "language": "python",
   "name": "study"
  },
  "language_info": {
   "codemirror_mode": {
    "name": "ipython",
    "version": 3
   },
   "file_extension": ".py",
   "mimetype": "text/x-python",
   "name": "python",
   "nbconvert_exporter": "python",
   "pygments_lexer": "ipython3",
   "version": "3.5.6"
  }
 },
 "nbformat": 4,
 "nbformat_minor": 4
}
