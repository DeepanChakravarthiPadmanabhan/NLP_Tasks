{
 "cells": [
  {
   "cell_type": "markdown",
   "metadata": {
    "deletable": false,
    "editable": false,
    "nbgrader": {
     "cell_type": "markdown",
     "checksum": "d757077c2e9b853138564450eb0dd923",
     "grade": false,
     "grade_id": "header",
     "locked": true,
     "schema_version": 3,
     "solution": false,
     "task": false
    }
   },
   "source": [
    "<div class=\"alert alert-block alert-info\">\n",
    "    <h1>Natural Language Processing</h1>\n",
    "    <h3>General Information:</h3>\n",
    "    <p>Please do not add or delete any cells. Answers belong into the corresponding cells (below the question). If a function is given (either as a signature or a full function), you should not change the name, arguments or return value of the function.<br><br> If you encounter empty cells underneath the answer that can not be edited, please ignore them, they are for testing purposes.<br><br>When editing an assignment there can be the case that there are variables in the kernel. To make sure your assignment works, please restart the kernel and run all cells before submitting (e.g. via <i>Kernel -> Restart & Run All</i>).</p>\n",
    "    <p>Code cells where you are supposed to give your answer often include the line  ```raise NotImplementedError```. This makes it easier to automatically grade answers. If you edit the cell please outcomment or delete this line.</p>\n",
    "    <h3>Submission:</h3>\n",
    "    <p>Please submit your notebook via the web interface (in the main view -> Assignments -> Submit). The assignments are due on <b>Wednesday at 15:00</b>. If this does not work there is a submission slot on LEA.</p>\n",
    "    <h3>Group Work:</h3>\n",
    "    <p>You are allowed to work in groups of up to three people. Please enter the UID (your username here) of each member of the group into the next cell. We apply plagiarism checking, so do not submit solutions from other people except your team members. If an assignment has a copied solution, the task will be graded with 0 points for all people with the same solution.</p>\n",
    "    <h3>Questions about the Assignment:</h3>\n",
    "    <p>If you have questions about the assignment please post them in the LEA forum before the deadline. Don't wait until the last day to post questions.</p>\n",
    "    \n",
    "</div>"
   ]
  },
  {
   "cell_type": "code",
   "execution_count": 1,
   "metadata": {},
   "outputs": [],
   "source": [
    "'''\n",
    "Group Work:\n",
    "Enter the UID (LEA username) of each team member into the variables. \n",
    "If you work alone please fill the first variable only.\n",
    "'''\n",
    "member1 = 'dpadma2s'\n",
    "member2 = 'smuthi2s'\n",
    "member3 = 'vmoham2s'"
   ]
  },
  {
   "cell_type": "markdown",
   "metadata": {
    "deletable": false,
    "editable": false,
    "nbgrader": {
     "cell_type": "markdown",
     "checksum": "61e3aa3e34f19aa9c4c624afafe52b2f",
     "grade": false,
     "grade_id": "intro_1",
     "locked": true,
     "schema_version": 3,
     "solution": false,
     "task": false
    }
   },
   "source": [
    "# What you need\n",
    "\n",
    "For this assignment we will use ```SpaCy```. This module helps us in processing text and has many features.\n",
    "We want to use it for tokenizing text. For this you need a language model. If the language model is not installed please execute ```!python -m spacy download en``` in a cell. Then reload ```spacy``` and try loading the model with ```spacy.load('en_core_web_sm')```."
   ]
  },
  {
   "cell_type": "markdown",
   "metadata": {
    "deletable": false,
    "editable": false,
    "nbgrader": {
     "cell_type": "markdown",
     "checksum": "1b7227fa5c7b13d0a39bb721105a4217",
     "grade": false,
     "grade_id": "intro_2",
     "locked": true,
     "schema_version": 3,
     "solution": false,
     "task": false
    }
   },
   "source": [
    "# Word Embeddings\n",
    "\n",
    "For training word embeddings we will use the ```gensim``` package.\n",
    "\n",
    "We can choose ```Word2Vec``` or ```FastText``` from ```gensim.models```.\n",
    "\n",
    "To train a model you give a corpus as a list of sentences which are in turn lists of tokens.\n",
    "\n",
    "*Example:*\n",
    "\n",
    "```\n",
    "sentences = gutenberg.sents('austen-emma.txt')\n",
    "model = Word2Vec(sentences, size=100, window=5, min_count=1)\n",
    "```\n",
    "This will train a model with vectors of ```size=100```, using a context window (n-gram) of size ```window=5``` and taking into account words that appear at least ```min_count=1``` times in our corpus."
   ]
  },
  {
   "cell_type": "markdown",
   "metadata": {
    "deletable": false,
    "editable": false,
    "nbgrader": {
     "cell_type": "markdown",
     "checksum": "ce6b6e4fbdf246c7742992713fb1fa7d",
     "grade": false,
     "grade_id": "intro_3",
     "locked": true,
     "schema_version": 3,
     "solution": false,
     "task": false
    }
   },
   "source": [
    "# Extracting Information from Wikipedia\n",
    "\n",
    "A great source for structured text is Wikipedia. To access the content of it via Python I wrote a little helper class on top of the wikipedia-api package.\n",
    "\n",
    "It has two methods, one gives you the name of all pages under a category (up to a depth of ```max_level```).\n",
    "\n",
    "The other method gives you the tokenized content of a page you specify by name."
   ]
  },
  {
   "cell_type": "code",
   "execution_count": 2,
   "metadata": {
    "deletable": false,
    "editable": false,
    "nbgrader": {
     "cell_type": "code",
     "checksum": "f0f3df4e69f0048c1ffd46f7cbafc557",
     "grade": false,
     "grade_id": "wikiextractor",
     "locked": true,
     "schema_version": 3,
     "solution": false,
     "task": false
    }
   },
   "outputs": [],
   "source": [
    "import wikipediaapi\n",
    "import spacy\n",
    "\n",
    "class WikiExtractor:\n",
    "    \n",
    "    def __init__(self):\n",
    "        self.wiki = wikipediaapi.Wikipedia(language='en')\n",
    "        self.nlp = spacy.load('en_core_web_sm', disable=['tagger', 'ner', 'parser'])\n",
    "        self.nlp.add_pipe(self.nlp.create_pipe('sentencizer'))\n",
    "        \n",
    "    def pages_in_category(self, category, level=0, max_level=1):\n",
    "        if type(category) == str:\n",
    "            if not category.startswith('Category:'):\n",
    "                category = 'Category:' + category\n",
    "            category = self.wiki.page(category)\n",
    "        pages = []\n",
    "        if level >= max_level:\n",
    "            return pages\n",
    "        for c in category.categorymembers.values():\n",
    "            if c.ns == wikipediaapi.Namespace.CATEGORY:\n",
    "                pages.extend(self.pages_in_category(c, level + 1, max_level))\n",
    "            else:\n",
    "                pages.append(c.title)\n",
    "        return pages\n",
    "    \n",
    "    def extract_from_page_name(self, page_name):\n",
    "        doc = self.nlp(self.wiki.page(page_name).text)\n",
    "        parsed = []\n",
    "        for sent in doc.sents:\n",
    "            parsed.append([str(t) for t in sent])\n",
    "        return parsed"
   ]
  },
  {
   "cell_type": "markdown",
   "metadata": {
    "deletable": false,
    "editable": false,
    "nbgrader": {
     "cell_type": "markdown",
     "checksum": "b80b43c74f16de6323af644fe618f567",
     "grade": false,
     "grade_id": "corpusA_corpusB_corpusC_description",
     "locked": true,
     "schema_version": 3,
     "solution": false,
     "task": false
    }
   },
   "source": [
    "## 1. Create a Corpus [15 Points]\n",
    "\n",
    "We want to create a corpus from the Wikipedia category ```Natural Language Processing```. For this we want all pages in this category and all sub-categories up to a depth of 3 (this should be 794 pages).\n",
    "\n",
    "### 1.1 Save the names of the pages in a variable called ```pages```. Use the WikiExtractor to get the page names. [5 Points]"
   ]
  },
  {
   "cell_type": "code",
   "execution_count": 3,
   "metadata": {
    "deletable": false,
    "nbgrader": {
     "cell_type": "code",
     "checksum": "ab8fc22cb4318093e433a643654e8f81",
     "grade": false,
     "grade_id": "corpusA",
     "locked": false,
     "schema_version": 3,
     "solution": true,
     "task": false
    }
   },
   "outputs": [
    {
     "name": "stdout",
     "output_type": "stream",
     "text": [
      "The number of pages related to 'Natural language processing' is: 794\n",
      "The first 3 pages from the category are:\n",
      " ['MeCab', 'W-shingling', 'Affix grammar over a finite lattice']\n",
      "The last  3 pages from the category are:\n",
      " ['Phrase structure grammar', 'Calais (Reuters product)', 'Filtered-popping recursive transition network']\n"
     ]
    }
   ],
   "source": [
    "pages = []\n",
    "SEARCH_PAGE = 'Natural language processing'\n",
    "extractor = WikiExtractor()\n",
    "pages = extractor.pages_in_category(SEARCH_PAGE, level = 0, max_level=3)\n",
    "print('The number of pages related to \\'{}\\' is: {}'. format(SEARCH_PAGE, len(pages)))\n",
    "print('The first 3 pages from the category are:\\n {}'.format(pages[:3]))\n",
    "print('The last  3 pages from the category are:\\n {}'.format(pages[-3:]))\n"
   ]
  },
  {
   "cell_type": "code",
   "execution_count": 4,
   "metadata": {
    "deletable": false,
    "editable": false,
    "nbgrader": {
     "cell_type": "code",
     "checksum": "724c9986f166aba6070fbcd1f9baeed2",
     "grade": true,
     "grade_id": "test_corpusA",
     "locked": true,
     "points": 5,
     "schema_version": 3,
     "solution": false,
     "task": false
    }
   },
   "outputs": [],
   "source": [
    "# This is a test cell, please ignore it!"
   ]
  },
  {
   "cell_type": "markdown",
   "metadata": {
    "deletable": false,
    "editable": false,
    "nbgrader": {
     "cell_type": "markdown",
     "checksum": "38d1cc4181d054f8a423a9be62539db8",
     "grade": false,
     "grade_id": "corpusB_description",
     "locked": true,
     "schema_version": 3,
     "solution": false,
     "task": false
    }
   },
   "source": [
    "### 1.2 Tokenize the pages using the WikiExtractor [7 Points]\n",
    "\n",
    "Save the tokenized pages in a variable called ```corpus```. This should contain a list of sentences (which are lists of tokens) for all the articles from the category. This might take a few minutes depending on the response time of Wikipedia."
   ]
  },
  {
   "cell_type": "code",
   "execution_count": 5,
   "metadata": {
    "deletable": false,
    "nbgrader": {
     "cell_type": "code",
     "checksum": "22eedee3802db97918703c0348627712",
     "grade": true,
     "grade_id": "corpusB",
     "locked": false,
     "points": 7,
     "schema_version": 3,
     "solution": true,
     "task": false
    }
   },
   "outputs": [
    {
     "name": "stdout",
     "output_type": "stream",
     "text": [
      "The first sentence in our corpus is:\n",
      "['MeCab', 'is', 'an', 'open', '-', 'source', 'text', 'segmentation', 'library', 'for', 'use', 'with', 'text', 'written', 'in', 'the', 'Japanese', 'language', 'originally', 'developed', 'by', 'the', 'Nara', 'Institute', 'of', 'Science', 'and', 'Technology', 'and', 'currently', 'maintained', 'by', 'Taku', 'Kudou', '(', '工藤拓', ')', 'as', 'part', 'of', 'his', 'work', 'on', 'the', 'Google', 'Japanese', 'Input', 'project', '.']\n",
      "The last  sentence in our corpus is:\n",
      "['\\n\\n\\n', '=', '=', 'References', '=', '=']\n",
      "CPU times: user 24.8 s, sys: 169 ms, total: 25 s\n",
      "Wall time: 6min 5s\n"
     ]
    }
   ],
   "source": [
    "%%time\n",
    "corpus = []\n",
    "\n",
    "for page_name in pages:\n",
    "    corpus.extend(extractor.extract_from_page_name(page_name))\n",
    "\n",
    "print('The first sentence in our corpus is:\\n{}'.format(corpus[0]))\n",
    "print('The last  sentence in our corpus is:\\n{}'.format(corpus[-1]))"
   ]
  },
  {
   "cell_type": "markdown",
   "metadata": {
    "deletable": false,
    "editable": false,
    "nbgrader": {
     "cell_type": "markdown",
     "checksum": "e358c0a915cb6fa097a4d16114db132a",
     "grade": false,
     "grade_id": "corpusC_description",
     "locked": true,
     "schema_version": 3,
     "solution": false,
     "task": false
    }
   },
   "source": [
    "### 1.3 Save your corpus [3 Points]\n",
    "\n",
    "Since we don't want to extract the corpus again everytime we run this notebook, we would like to save our corpus to a file. For this we can use the built-in Python module ```pickle```. Save your file as ```corpus.pkl```.\n",
    "\n",
    "*Example:*\n",
    "\n",
    "Saving data:\n",
    "\n",
    "```\n",
    "import pickle\n",
    "\n",
    "some_data = [...]\n",
    "with open('my_file.pkl', 'wb') as f:\n",
    "    f.write(pickle.dumps(some_data)\n",
    "```\n",
    "\n",
    "Loading data:\n",
    "\n",
    "```\n",
    "import pickle\n",
    "\n",
    "with open('my_file.pkl', 'rb') as f:\n",
    "    some_data = pickle.loads(f.read())\n",
    "```"
   ]
  },
  {
   "cell_type": "code",
   "execution_count": 28,
   "metadata": {
    "deletable": false,
    "nbgrader": {
     "cell_type": "code",
     "checksum": "a6bdf43a55f846f5be520055a02ca728",
     "grade": false,
     "grade_id": "corpusC",
     "locked": false,
     "schema_version": 3,
     "solution": true,
     "task": false
    }
   },
   "outputs": [],
   "source": [
    "import pickle\n",
    "\n",
    "with open('my_file.pkl', 'wb') as f:\n",
    "    f.write(pickle.dumps(corpus))"
   ]
  },
  {
   "cell_type": "code",
   "execution_count": 29,
   "metadata": {
    "deletable": false,
    "editable": false,
    "nbgrader": {
     "cell_type": "code",
     "checksum": "fdcf29f6d99e7e0835e455ab3bd1ea27",
     "grade": true,
     "grade_id": "test_corpusC",
     "locked": true,
     "points": 3,
     "schema_version": 3,
     "solution": false,
     "task": false
    }
   },
   "outputs": [],
   "source": [
    "# This is a test cell, please ignore it!"
   ]
  },
  {
   "cell_type": "markdown",
   "metadata": {
    "deletable": false,
    "editable": false,
    "nbgrader": {
     "cell_type": "markdown",
     "checksum": "a53421b1c9f4289560d9d83e0e073e11",
     "grade": false,
     "grade_id": "create_modelA_create_modelB_description",
     "locked": true,
     "schema_version": 3,
     "solution": false,
     "task": false
    }
   },
   "source": [
    "## 2. Word2Vec [10 Points]\n",
    "### 2.1 Training a Word2Vec model [7 Points]\n",
    "\n",
    "In the first task you should train a model on your corpus. Load your corpus from the pickled file ```corpus.pkl```.\n",
    "\n",
    "Create a Word2Vec model with vectors of size 60, with a window size of 5 and a min count of 3.\n",
    "\n",
    "Store this in the variable ```model_w2v```."
   ]
  },
  {
   "cell_type": "code",
   "execution_count": 30,
   "metadata": {
    "deletable": false,
    "nbgrader": {
     "cell_type": "code",
     "checksum": "3fe3885ed02b87d62938fc6703d621d4",
     "grade": false,
     "grade_id": "create_modelA",
     "locked": false,
     "schema_version": 3,
     "solution": true,
     "task": false
    }
   },
   "outputs": [],
   "source": [
    "from gensim.models import Word2Vec\n",
    "import pickle\n",
    "\n",
    "with open('my_file.pkl', 'rb') as f:\n",
    "    corpus = pickle.loads(f.read())\n",
    "    \n",
    "for i in range(0,len(corpus)):\n",
    "    corpus[i]=tuple(corpus[i])\n",
    "    \n",
    "model_w2v = Word2Vec(corpus, size=60, window=5, min_count=3)\n"
   ]
  },
  {
   "cell_type": "code",
   "execution_count": 31,
   "metadata": {
    "deletable": false,
    "editable": false,
    "nbgrader": {
     "cell_type": "code",
     "checksum": "45072b7de80433f327125ade1af2b801",
     "grade": true,
     "grade_id": "test_create_modelA",
     "locked": true,
     "points": 7,
     "schema_version": 3,
     "solution": false,
     "task": false
    }
   },
   "outputs": [],
   "source": [
    "# This is a test cell, please ignore it!"
   ]
  },
  {
   "cell_type": "markdown",
   "metadata": {
    "deletable": false,
    "editable": false,
    "nbgrader": {
     "cell_type": "markdown",
     "checksum": "8e5f60d497be8f9076570719b4da7807",
     "grade": false,
     "grade_id": "create_modelB_description",
     "locked": true,
     "schema_version": 3,
     "solution": false,
     "task": false
    }
   },
   "source": [
    "### 2.2 Saving your model [3 Points]\n",
    "\n",
    "To save and load a model we can use ```gensim```. We can just call ```model.save('mymodel.model')```.\n",
    "\n",
    "Save your model in the file ```model_w2v.model```.\n",
    "\n",
    "To load your file again you can ```Word2Vec.load('mymodel.model')```."
   ]
  },
  {
   "cell_type": "code",
   "execution_count": 32,
   "metadata": {
    "deletable": false,
    "nbgrader": {
     "cell_type": "code",
     "checksum": "ba99eb07a63ced936ffac4494d505ade",
     "grade": false,
     "grade_id": "create_modelB",
     "locked": false,
     "schema_version": 3,
     "solution": true,
     "task": false
    }
   },
   "outputs": [
    {
     "name": "stderr",
     "output_type": "stream",
     "text": [
      "/media/deepan/externaldrive2/anaconda/envs/study/lib/python3.5/site-packages/smart_open/smart_open_lib.py:402: UserWarning: This function is deprecated, use smart_open.open instead. See the migration notes for details: https://github.com/RaRe-Technologies/smart_open/blob/master/README.rst#migrating-to-the-new-open-function\n",
      "  'See the migration notes for details: %s' % _MIGRATION_NOTES_URL\n"
     ]
    }
   ],
   "source": [
    "model_w2v.save('mymodel.model')\n",
    "model = Word2Vec.load('mymodel.model')"
   ]
  },
  {
   "cell_type": "code",
   "execution_count": 33,
   "metadata": {
    "deletable": false,
    "editable": false,
    "nbgrader": {
     "cell_type": "code",
     "checksum": "57d83902a8587550a2d2d856bdc3bc4e",
     "grade": true,
     "grade_id": "test_create_modelB",
     "locked": true,
     "points": 3,
     "schema_version": 3,
     "solution": false,
     "task": false
    }
   },
   "outputs": [],
   "source": [
    "# This is a test cell, please ignore it!"
   ]
  },
  {
   "cell_type": "markdown",
   "metadata": {
    "deletable": false,
    "editable": false,
    "nbgrader": {
     "cell_type": "markdown",
     "checksum": "c8a6d293433e2fa6cb9c1fdb67440516",
     "grade": false,
     "grade_id": "model_usingA_model_usingB_model_usingC_description",
     "locked": true,
     "schema_version": 3,
     "solution": false,
     "task": false
    }
   },
   "source": [
    "## 3. Using the model [20 Points]\n",
    "\n",
    "### 3.1 Finding the most similar words to a given word [7 Points]\n",
    "\n",
    "We now want to find the most similar words to a given word.\n",
    "\n",
    "For this we need to access the KeyedVectors of the model via ```model.wv.most_similar('word')```.\n",
    "\n",
    "You are given the words ```['natural', 'language', 'processing', 'is', 'fun', 'ELIZA']```.\n",
    "\n",
    "For each word store the result in the list ```most_similar_words```.\n",
    "\n",
    "This should contain an entry for each input word as a tuple ```(input_word, most_similar_word, similarity)```.\n",
    "\n",
    "An example for an entry would be ```('POS', 'tagging', 0.9154)```. This means the most similar word to ```POS``` is ```tagging``` with a similarity of ```0.9154```."
   ]
  },
  {
   "cell_type": "code",
   "execution_count": 34,
   "metadata": {
    "deletable": false,
    "nbgrader": {
     "cell_type": "code",
     "checksum": "bddcdbce2821e05d87e2563c6e05fd48",
     "grade": false,
     "grade_id": "model_usingA",
     "locked": false,
     "schema_version": 3,
     "solution": true,
     "task": false
    }
   },
   "outputs": [
    {
     "name": "stdout",
     "output_type": "stream",
     "text": [
      "The most similar word to \"natural\" is \"processing\" with a similarity of 0.9189\n",
      "The most similar word to \"language\" is \"understanding\" with a similarity of 0.7003\n",
      "The most similar word to \"processing\" is \"natural\" with a similarity of 0.9189\n",
      "The most similar word to \"is\" is \"renders\" with a similarity of 0.6836\n",
      "The most similar word to \"interesting\" is \"cd+wc\" with a similarity of 0.9474\n",
      "The most similar word to \"ELIZA\" is \"reCAPTCHA\" with a similarity of 0.9477\n",
      "The most similar word to \"POS\" is \"tagger\" with a similarity of 0.9221\n"
     ]
    }
   ],
   "source": [
    "input_words = ['natural', 'language', 'processing', 'is', 'interesting', 'ELIZA', 'POS']\n",
    "most_similar_words = []\n",
    "\n",
    "for i in input_words:\n",
    "    store = (i,) + model.wv.most_similar(i)[0]\n",
    "    most_similar_words.append(store)\n",
    "\n",
    "for entry in most_similar_words:\n",
    "    print('The most similar word to \"{}\" is \"{}\" with a similarity of {:.4f}'.format(*entry))"
   ]
  },
  {
   "cell_type": "code",
   "execution_count": 13,
   "metadata": {
    "deletable": false,
    "editable": false,
    "nbgrader": {
     "cell_type": "code",
     "checksum": "332b7b642d94342364ccbc0b887f0f2c",
     "grade": true,
     "grade_id": "test_model_usingA",
     "locked": true,
     "points": 7,
     "schema_version": 3,
     "solution": false,
     "task": false
    }
   },
   "outputs": [],
   "source": [
    "# This is a test cell, please ignore it!"
   ]
  },
  {
   "cell_type": "markdown",
   "metadata": {
    "deletable": false,
    "editable": false,
    "nbgrader": {
     "cell_type": "markdown",
     "checksum": "89f592a4e2bf463e489d04d35a62832b",
     "grade": false,
     "grade_id": "model_usingB_description",
     "locked": true,
     "schema_version": 3,
     "solution": false,
     "task": false
    }
   },
   "source": [
    "### 3.2 Finding out the most similar word to a list of given words [7 Points]\n",
    "\n",
    "Instead of just finding the most similar word to a single word, we can also find the most similar word to a bunch of words at the same time.\n",
    "\n",
    "This can be done by calling ```most_similar(positive=[word1, word2, ...])```.\n",
    "\n",
    "Do this for the following input: \n",
    "```\n",
    "[('natural', 'language'), \n",
    " ('natural', 'understanding'), \n",
    " ('sentence', 'tokenization'),\n",
    " ('chatbot', 'ELIZA'),\n",
    " ('dependency', 'parsing'),\n",
    " ('POS', 'tagging'),\n",
    " ('probability', 'theory')]\n",
    "```\n",
    "\n",
    "This means for the first one you need to find the most similar word to ```('natural', 'language')```.\n",
    "\n",
    "Store your result in the list ```most_similar_positive_word```, again in the same format as for the previous task. \n",
    "\n",
    "\n",
    "Each entry should look like this:\n",
    "\n",
    "```(('probability', 'theory'), 'concept', 0.8886)``` saying the most similar word to ```('probability', 'theory')``` is ```concept```."
   ]
  },
  {
   "cell_type": "code",
   "execution_count": 14,
   "metadata": {
    "deletable": false,
    "nbgrader": {
     "cell_type": "code",
     "checksum": "6259528005b4e7be9517cb7454b2c237",
     "grade": false,
     "grade_id": "model_usingB",
     "locked": false,
     "schema_version": 3,
     "solution": true,
     "task": false
    }
   },
   "outputs": [
    {
     "name": "stdout",
     "output_type": "stream",
     "text": [
      "The most similar word to the words ('natural', 'language') is \"processing\" with a similarity of 0.8999\n",
      "The most similar word to the words ('natural', 'understanding') is \"processing\" with a similarity of 0.9375\n",
      "The most similar word to the words ('sentence', 'tokenization') is \"lemma\" with a similarity of 0.9154\n",
      "The most similar word to the words ('chatbot', 'ELIZA') is \"belief\" with a similarity of 0.9319\n",
      "The most similar word to the words ('dependency', 'parsing') is \"lexical\" with a similarity of 0.9385\n",
      "The most similar word to the words ('POS', 'tagging') is \"tagger\" with a similarity of 0.8957\n",
      "The most similar word to the words ('probability', 'theory') is \"derivation\" with a similarity of 0.9167\n"
     ]
    }
   ],
   "source": [
    "input_words = [\n",
    "    ('natural', 'language'), \n",
    "    ('natural', 'understanding'), \n",
    "    ('sentence', 'tokenization'),\n",
    "    ('chatbot', 'ELIZA'),\n",
    "    ('dependency', 'parsing'),\n",
    "    ('POS', 'tagging'),\n",
    "    ('probability', 'theory')]\n",
    "most_similar_positive_word = []\n",
    "for i in input_words:\n",
    "    word = model.wv.most_similar(positive=list(i))[0]\n",
    "    most_similar_positive_word.append(tuple([i,word[0], word[1]] ))\n",
    "\n",
    "for entry in most_similar_positive_word:\n",
    "    print('The most similar word to the words {} is \"{}\" with a similarity of {:.4f}'.format(*entry))"
   ]
  },
  {
   "cell_type": "code",
   "execution_count": 15,
   "metadata": {
    "deletable": false,
    "editable": false,
    "nbgrader": {
     "cell_type": "code",
     "checksum": "7ab70c82778f2dbbc432cb82cbf6c04f",
     "grade": true,
     "grade_id": "test_model_usingB",
     "locked": true,
     "points": 7,
     "schema_version": 3,
     "solution": false,
     "task": false
    }
   },
   "outputs": [],
   "source": [
    "# This is a test cell, please ignore it!"
   ]
  },
  {
   "cell_type": "markdown",
   "metadata": {
    "deletable": false,
    "editable": false,
    "nbgrader": {
     "cell_type": "markdown",
     "checksum": "c39922c9301a0c2208daf98ddc402e65",
     "grade": false,
     "grade_id": "model_usingC_description",
     "locked": true,
     "schema_version": 3,
     "solution": false,
     "task": false
    }
   },
   "source": [
    "### 3.3 Finding out what does not match [6 Points]\n",
    "\n",
    "We can provide our model with a list of tokens (words) and find out which one does not match using ```my_model.wv.doesnt_match([word1, word2, ...])```\n",
    "\n",
    "You are given the following list, where each sublist refers to a set of words where we want to find out what does not match.\n",
    "\n",
    "```\n",
    "input_words = [['sentiment', 'gram', 'bigram', 'trigram'],\n",
    "               ['named', 'entity', 'detection', 'recognition'], \n",
    "               ['verb', 'noun', 'phrase', 'extraction'],\n",
    "               ['dependency', 'tagging', 'POS', 'speech'],\n",
    "               ['stemming', 'tagging', 'lemmatizing', 'trigram']]\n",
    "```\n",
    "\n",
    "For each sublist, create an entry in the list ```does_not_match``` that holds the word that does not match. "
   ]
  },
  {
   "cell_type": "code",
   "execution_count": 16,
   "metadata": {
    "deletable": false,
    "nbgrader": {
     "cell_type": "code",
     "checksum": "070992720939598fc03d9c1bca709b4c",
     "grade": false,
     "grade_id": "model_usingC",
     "locked": false,
     "schema_version": 3,
     "solution": true,
     "task": false
    }
   },
   "outputs": [
    {
     "name": "stdout",
     "output_type": "stream",
     "text": [
      "From the list ['sentiment', 'gram', 'bigram', 'trigram'], the word \"sentiment\" does not match!\n",
      "From the list ['named', 'entity', 'detection', 'recognition'], the word \"detection\" does not match!\n",
      "From the list ['verb', 'noun', 'phrase', 'extraction'], the word \"extraction\" does not match!\n",
      "From the list ['dependency', 'tagging', 'POS', 'speech'], the word \"dependency\" does not match!\n",
      "From the list ['stemming', 'tagging', 'lemmatizing', 'trigram'], the word \"trigram\" does not match!\n"
     ]
    }
   ],
   "source": [
    "input_words = [['sentiment', 'gram', 'bigram', 'trigram'],\n",
    "               ['named', 'entity', 'detection', 'recognition'], \n",
    "               ['verb', 'noun', 'phrase', 'extraction'],\n",
    "               ['dependency', 'tagging', 'POS', 'speech'],\n",
    "               ['stemming', 'tagging', 'lemmatizing', 'trigram']]\n",
    "\n",
    "does_not_match = []\n",
    "for i in input_words:\n",
    "    does_not_match.append(model.wv.doesnt_match(i))\n",
    "\n",
    "for odd_one, sublist in zip(does_not_match, input_words):\n",
    "    print('From the list {}, the word \"{}\" does not match!'.format(sublist, odd_one))"
   ]
  },
  {
   "cell_type": "code",
   "execution_count": 17,
   "metadata": {
    "deletable": false,
    "editable": false,
    "nbgrader": {
     "cell_type": "code",
     "checksum": "acab41e7facdb3c9979ac31c21672c1d",
     "grade": true,
     "grade_id": "test_model_usingC",
     "locked": true,
     "points": 6,
     "schema_version": 3,
     "solution": false,
     "task": false
    }
   },
   "outputs": [],
   "source": [
    "# This is a test cell, please ignore it!"
   ]
  },
  {
   "cell_type": "markdown",
   "metadata": {
    "deletable": false,
    "editable": false,
    "nbgrader": {
     "cell_type": "markdown",
     "checksum": "9a5f22e3ea433868997e794089e3898e",
     "grade": false,
     "grade_id": "similarityA_similarityB_description",
     "locked": true,
     "schema_version": 3,
     "solution": false,
     "task": false
    }
   },
   "source": [
    "## 4. Similarity between documents [19 Points]\n",
    "\n",
    "Word2Vec tells us how similar words are. But often we are interested in how similar documents or sentences are.\n",
    "\n",
    "### 4.1 SOWE [11 Points]\n",
    "\n",
    "There is a naive way of doing this by summing up the vectors of each document and calculating the cosine similarity between those. This is called sum of word embeddings (SOWE).\n",
    "\n",
    "The vector of a word can be accessed via ```model.wv[word]```.\n",
    "\n",
    "Complete the function below."
   ]
  },
  {
   "cell_type": "code",
   "execution_count": 18,
   "metadata": {
    "deletable": false,
    "nbgrader": {
     "cell_type": "code",
     "checksum": "865964f5fdd156005c4084a8a739ca35",
     "grade": false,
     "grade_id": "similarityA",
     "locked": false,
     "schema_version": 3,
     "solution": true,
     "task": false
    }
   },
   "outputs": [
    {
     "data": {
      "text/plain": [
       "0.76304674"
      ]
     },
     "execution_count": 18,
     "metadata": {},
     "output_type": "execute_result"
    }
   ],
   "source": [
    "import numpy as np\n",
    "from collections import Counter\n",
    "\n",
    "\n",
    "def SOWE(model: Word2Vec, doc1: [str], doc2: [str]) -> float:\n",
    "    '''\n",
    "    Calculate the SOWE similarity between two documents\n",
    "    \n",
    "    Arguments:\n",
    "        model -- a word embedding model\n",
    "        doc1  -- the first document as a list of tokens ['This', 'is', 'a', 'document']\n",
    "        doc2  -- the second document as a list of tokens ['This', 'is', 'a', 'document']\n",
    "    Returns:\n",
    "        sim   -- the cosine similarity between the two documents\n",
    "    '''\n",
    "    vector1 = []\n",
    "    vector2 = []\n",
    "    for i in doc1:\n",
    "        vector1.append(model.wv[i])\n",
    "    for i in doc2:\n",
    "        vector2.append(model.wv[i])\n",
    "    \n",
    "    vector1_sum = np.sum(np.array(vector1), axis=0)\n",
    "    vector2_sum = np.sum(np.array(vector2), axis=0)\n",
    "    \n",
    "    \n",
    "    sim = np.dot(vector1_sum, vector2_sum)/(np.linalg.norm(vector1_sum)*np.linalg.norm(vector2_sum))\n",
    "\n",
    "    return sim\n",
    "        \n",
    "        \n",
    "    \n",
    "model_w2v = model    \n",
    "SOWE(model_w2v, ['part', 'of', 'speech', 'tagging', 'is', 'interesting'], \n",
    "                ['dependency', 'parsing', 'is', 'interesting', 'too'])\n"
   ]
  },
  {
   "cell_type": "code",
   "execution_count": 19,
   "metadata": {
    "deletable": false,
    "editable": false,
    "nbgrader": {
     "cell_type": "code",
     "checksum": "24534ea35040fc6a608c00e9c2c57c35",
     "grade": true,
     "grade_id": "test_similarityA",
     "locked": true,
     "points": 11,
     "schema_version": 3,
     "solution": false,
     "task": false
    }
   },
   "outputs": [],
   "source": [
    "# This is a test cell, please ignore it!"
   ]
  },
  {
   "cell_type": "markdown",
   "metadata": {
    "deletable": false,
    "editable": false,
    "nbgrader": {
     "cell_type": "markdown",
     "checksum": "07ecfb276d15017587855bdf3fafbb3b",
     "grade": false,
     "grade_id": "similarityB_description",
     "locked": true,
     "schema_version": 3,
     "solution": false,
     "task": false
    }
   },
   "source": [
    "## 4.2 Finding the most similar document [8 Points]\n",
    "\n",
    "You are given a list of documents ```docs```. And a document ```target_doc```.\n",
    "\n",
    "Create a list ```similarity``` that holds an entry for each document and the similarity to the target document.\n",
    "\n",
    "Sort this list by the similarity in descending order."
   ]
  },
  {
   "cell_type": "code",
   "execution_count": 20,
   "metadata": {
    "deletable": false,
    "nbgrader": {
     "cell_type": "code",
     "checksum": "fa3108ff392c4e64a610780c50101427",
     "grade": false,
     "grade_id": "similarityB",
     "locked": false,
     "schema_version": 3,
     "solution": true,
     "task": false
    }
   },
   "outputs": [
    {
     "name": "stdout",
     "output_type": "stream",
     "text": [
      "The sentence \"people say POS tagging is useful\" is 0.76 similar to the target.\n",
      "The sentence \"some claim dependency parsing is fun\" is 0.74 similar to the target.\n",
      "The sentence \"sentiment analysis is not easy\" is 0.69 similar to the target.\n",
      "The sentence \"trigrams are similar to bigrams\" is 0.49 similar to the target.\n",
      "The sentence \"ELIZA was a chatbot\" is 0.46 similar to the target.\n"
     ]
    }
   ],
   "source": [
    "docs = [\n",
    "    ['people', 'say', 'POS', 'tagging', 'is', 'useful'],\n",
    "    ['some', 'claim', 'dependency', 'parsing', 'is', 'fun'],\n",
    "    ['sentiment', 'analysis', 'is', 'not', 'easy'], \n",
    "    ['ELIZA', 'was', 'a', 'chatbot'],\n",
    "    ['trigrams', 'are', 'similar', 'to', 'bigrams']\n",
    "]\n",
    "\n",
    "target_doc = ['Natural', 'language', 'understanding', 'is', 'hard']\n",
    "similarity = []\n",
    "\n",
    "for i in docs:\n",
    "    sim_value = (SOWE(model_w2v, target_doc, i))\n",
    "    similarity.append([i, sim_value])\n",
    "\n",
    "similarity = sorted(similarity,key=lambda l:l[1], reverse=True)\n",
    "\n",
    "for entry in similarity:\n",
    "    print('The sentence \"{}\" is {:.2f} similar to the target.'.format(\n",
    "        ' '.join(entry[0]),\n",
    "        entry[1]\n",
    "    ))"
   ]
  },
  {
   "cell_type": "code",
   "execution_count": 21,
   "metadata": {
    "deletable": false,
    "editable": false,
    "nbgrader": {
     "cell_type": "code",
     "checksum": "34b39f876e086b6dabbcb9f41596ec78",
     "grade": true,
     "grade_id": "test_similarityB",
     "locked": true,
     "points": 8,
     "schema_version": 3,
     "solution": false,
     "task": false
    }
   },
   "outputs": [],
   "source": [
    "# This is a test cell, please ignore it!"
   ]
  },
  {
   "cell_type": "markdown",
   "metadata": {
    "deletable": false,
    "editable": false,
    "nbgrader": {
     "cell_type": "markdown",
     "checksum": "12f18449149499c9638b63cfc352111c",
     "grade": false,
     "grade_id": "insightsA_insightsB_insightsC_insightsD_insightsE_insightsF_description",
     "locked": true,
     "schema_version": 3,
     "solution": false,
     "task": false
    }
   },
   "source": [
    "## 5. Insights on how to choose training parameters [36 Points]\n",
    "\n",
    "When training a model it is important to choose a good vector size. If they are too small you will not encode enough information, if they are too big you waste memory.\n",
    "\n",
    "One way to get an estimate for how to choose the size is to start with a certain size and then apply PCA (principal component analysis) to the vectors. PCA is used for dimensionality reduction. You can give it vectors of a certain size and map them to smaller vectors. PCA gives us the mapping between the high and the low dimensional vectors. PCA also tells us how much variance of the original data is encoded in each component.\n",
    "\n",
    "We will use the implementation from [scikit-learn](https://scikit-learn.org/stable/modules/generated/sklearn.decomposition.PCA.html) to do this."
   ]
  },
  {
   "cell_type": "markdown",
   "metadata": {
    "deletable": false,
    "editable": false,
    "nbgrader": {
     "cell_type": "markdown",
     "checksum": "8d1a85b1c2018cf7a4b996bf0f509ebf",
     "grade": false,
     "grade_id": "insightsA_description",
     "locked": true,
     "schema_version": 3,
     "solution": false,
     "task": false
    }
   },
   "source": [
    "### 5.1.1 Finding out how much variance is encoded in each dimension [6 Points]\n",
    "\n",
    "To access all the vectors from your word embedding model, you can call ```model_w2v.wv.vectors```.\n",
    "\n",
    "Perform PCA on this with ```n_components=60```. Store the explained variance ratio in the variable ```variance```.\n",
    "\n",
    "*Hint: If you have trouble doing this, look at the examples in the scikit-learn docs*"
   ]
  },
  {
   "cell_type": "code",
   "execution_count": 22,
   "metadata": {
    "deletable": false,
    "nbgrader": {
     "cell_type": "code",
     "checksum": "8ef82b487f7c3800aa482a195f6b61b0",
     "grade": false,
     "grade_id": "insightsA",
     "locked": false,
     "schema_version": 3,
     "solution": true,
     "task": false
    }
   },
   "outputs": [
    {
     "name": "stdout",
     "output_type": "stream",
     "text": [
      "Printing the information about the first 3 components.\n",
      "Component number 1 encodes 0.25 percent of the variance.\n",
      "Component number 2 encodes 0.21 percent of the variance.\n",
      "Component number 3 encodes 0.15 percent of the variance.\n"
     ]
    }
   ],
   "source": [
    "from sklearn.decomposition import PCA\n",
    "\n",
    "pca = PCA(n_components=60, svd_solver='full')\n",
    "pca.fit(model_w2v.wv.vectors)\n",
    "variance = pca.explained_variance_ratio_\n",
    "\n",
    "print('Printing the information about the first 3 components.')\n",
    "for i in range(3):\n",
    "    print('Component number {} encodes {:.2f} percent of the variance.'.format(i + 1, variance[i]))"
   ]
  },
  {
   "cell_type": "code",
   "execution_count": 23,
   "metadata": {
    "deletable": false,
    "editable": false,
    "nbgrader": {
     "cell_type": "code",
     "checksum": "adc557ebf05a5b864d60e41690586de3",
     "grade": true,
     "grade_id": "test_insightsA",
     "locked": true,
     "points": 6,
     "schema_version": 3,
     "solution": false,
     "task": false
    }
   },
   "outputs": [],
   "source": [
    "# This is a test cell, please ignore it!"
   ]
  },
  {
   "cell_type": "markdown",
   "metadata": {
    "deletable": false,
    "editable": false,
    "nbgrader": {
     "cell_type": "markdown",
     "checksum": "fda814c0e859d8e8e724f639f898bc75",
     "grade": false,
     "grade_id": "insightsB_description",
     "locked": true,
     "schema_version": 3,
     "solution": false,
     "task": false
    }
   },
   "source": [
    "### 5.1.2 Visualization [6 Points]\n",
    "\n",
    "Create a bar chart from the variance. The x-axis denotes the number of the component (starting at 0) and the y-axis the amount of variance encoded.\n",
    "\n",
    "As always, make sure your plot has labels, a legend, a title and a grid."
   ]
  },
  {
   "cell_type": "code",
   "execution_count": 35,
   "metadata": {
    "deletable": false,
    "nbgrader": {
     "cell_type": "code",
     "checksum": "ebb6fdaeebe5338cc17e0d4a5db28373",
     "grade": true,
     "grade_id": "insightsB",
     "locked": false,
     "points": 6,
     "schema_version": 3,
     "solution": true,
     "task": false
    }
   },
   "outputs": [
    {
     "data": {
      "image/png": "[encoded data removed]",
      "text/plain": [
       "<Figure size 864x576 with 1 Axes>"
      ]
     },
     "metadata": {
      "needs_background": "light"
     },
     "output_type": "display_data"
    }
   ],
   "source": [
    "import matplotlib.pyplot as plt\n",
    "plt.figure(figsize=(12,8))\n",
    "x = range(len(variance))\n",
    "plt.bar(x, variance)\n",
    "plt.ylabel('Amount of variance encoded', fontdict={'size':20})\n",
    "plt.xlabel('Number of components', fontdict={'size':20})\n",
    "plt.title('Variance encoded for each component after PCA', fontdict={'size':20})\n",
    "plt.grid()\n",
    "plt.show()"
   ]
  },
  {
   "cell_type": "markdown",
   "metadata": {
    "deletable": false,
    "editable": false,
    "nbgrader": {
     "cell_type": "markdown",
     "checksum": "bdf2e6dce15361e730bfe55ef1dda19c",
     "grade": false,
     "grade_id": "insightsC_description",
     "locked": true,
     "schema_version": 3,
     "solution": false,
     "task": false
    }
   },
   "source": [
    "### 5.1.3 Visualization of accumulated variance [6 Points]\n",
    "\n",
    "Now we want to find out how many components we actually need to encode 99% of the variance of the original data.\n",
    "\n",
    "For this we will first create a plot of the accumulated variance. Store this variance in the variable ```accumulated_variance```. The first entry should tell us how much variance the first component stores, the second entry should tell us the variance of the first and second compononent summed together and so on.\n",
    "\n",
    "Plot this as a bar chart."
   ]
  },
  {
   "cell_type": "code",
   "execution_count": 25,
   "metadata": {
    "deletable": false,
    "nbgrader": {
     "cell_type": "code",
     "checksum": "43c1ac567d9891d7574fb74413846d1c",
     "grade": true,
     "grade_id": "insightsC",
     "locked": false,
     "points": 6,
     "schema_version": 3,
     "solution": true,
     "task": false
    }
   },
   "outputs": [
    {
     "data": {
      "image/png": "[encoded data removed]",
      "text/plain": [
       "<Figure size 864x576 with 1 Axes>"
      ]
     },
     "metadata": {
      "needs_background": "light"
     },
     "output_type": "display_data"
    }
   ],
   "source": [
    "import matplotlib.pyplot as plt\n",
    "\n",
    "plt.figure(figsize=(12,8))\n",
    "accumulated_variance = []\n",
    "\n",
    "for n, i in enumerate(variance):\n",
    "    accumulated_variance.append(sum(variance[:n+1]))\n",
    "\n",
    "x = range(len(accumulated_variance))\n",
    "plt.bar(x, accumulated_variance)\n",
    "plt.ylabel('Amount of accumulated variance', fontdict={'size':20})\n",
    "plt.xlabel('Number of components', fontdict={'size':20})\n",
    "plt.title('Accumulated variance across each component after PCA', fontdict={'size':20})\n",
    "plt.grid()\n",
    "plt.show()"
   ]
  },
  {
   "cell_type": "markdown",
   "metadata": {
    "deletable": false,
    "editable": false,
    "nbgrader": {
     "cell_type": "markdown",
     "checksum": "f7b9782dbb93e6ef6447e4ed7ad6e776",
     "grade": false,
     "grade_id": "insightsD_description",
     "locked": true,
     "schema_version": 3,
     "solution": false,
     "task": false
    }
   },
   "source": [
    "### 5.1.4 Finding out a good estimate for the vector size for training our model [6 Points]\n",
    "\n",
    "Find out how many components are needed to encode ```99.9%``` of the variance of the original data.\n",
    "\n",
    "Store this in the variable ```n_components```."
   ]
  },
  {
   "cell_type": "code",
   "execution_count": 26,
   "metadata": {
    "deletable": false,
    "nbgrader": {
     "cell_type": "code",
     "checksum": "5eb1289dba21579eb235a11e6a598e1e",
     "grade": false,
     "grade_id": "insightsD",
     "locked": false,
     "schema_version": 3,
     "solution": true,
     "task": false
    }
   },
   "outputs": [
    {
     "name": "stdout",
     "output_type": "stream",
     "text": [
      "We need 46 components to encode 99% of the variance\n"
     ]
    }
   ],
   "source": [
    "n_components = 0\n",
    "\n",
    "idx_ = np.where(np.array(accumulated_variance)>0.999)[0]\n",
    "n_components = min(idx_) + 1 # Because component 1 is at 0 idx.\n",
    "        \n",
    "print('We need {} components to encode 99% of the variance'.format(n_components))"
   ]
  },
  {
   "cell_type": "code",
   "execution_count": 27,
   "metadata": {
    "deletable": false,
    "editable": false,
    "nbgrader": {
     "cell_type": "code",
     "checksum": "dabdd8a61693d681715dbe9070808e0a",
     "grade": true,
     "grade_id": "test_insightsD",
     "locked": true,
     "points": 6,
     "schema_version": 3,
     "solution": false,
     "task": false
    }
   },
   "outputs": [],
   "source": [
    "# This is a test cell, please ignore it!"
   ]
  },
  {
   "cell_type": "markdown",
   "metadata": {
    "deletable": false,
    "editable": false,
    "nbgrader": {
     "cell_type": "markdown",
     "checksum": "e1e8b39819b7d9b7ee48ce66b3a88b3c",
     "grade": false,
     "grade_id": "insightsE_description",
     "locked": true,
     "schema_version": 3,
     "solution": false,
     "task": false
    }
   },
   "source": [
    "### 5.2.1 Window size [6 Points]\n",
    "\n",
    "Please write down your understanding of how the window size affects the trained vectors. "
   ]
  },
  {
   "cell_type": "markdown",
   "metadata": {
    "deletable": false,
    "nbgrader": {
     "cell_type": "markdown",
     "checksum": "7a5c0e01d98225e9d1d4a3d93110edd3",
     "grade": true,
     "grade_id": "insightsE",
     "locked": false,
     "points": 6,
     "schema_version": 3,
     "solution": true,
     "task": false
    }
   },
   "source": [
    "Larger windows tend to capture more topic/domain information.  Smaller windows tend to capture more about word itself.\n",
    "\n",
    "For example \"Earth is one of planets of the solar system\" if the window size is 2 then the vector of word \"Earth\" is directly affected by the word \"is\" and \"one\" (assuming no word is a stop word), if the window size is 5 \"Earth\" can be directly affected by the \"planet\". The 'affected' here means it will pull the vector of two words closer, similarity is more. So it depends on the material used for training, if the window size of 2 can capture the context of a word, but 5 is chosen, it will decrease the quality of the learnt model, and vise versa."
   ]
  },
  {
   "cell_type": "markdown",
   "metadata": {
    "deletable": false,
    "editable": false,
    "nbgrader": {
     "cell_type": "markdown",
     "checksum": "0bed5a683775c2cc870cc141053eaa04",
     "grade": false,
     "grade_id": "insightsF_description",
     "locked": true,
     "schema_version": 3,
     "solution": false,
     "task": false
    }
   },
   "source": [
    "### 5.3.1 Min count [6 Points]\n",
    "\n",
    "Why would you want to exclude words that appear less than a certain number of times in the corpus?"
   ]
  },
  {
   "cell_type": "markdown",
   "metadata": {
    "deletable": false,
    "nbgrader": {
     "cell_type": "markdown",
     "checksum": "d2494e216d0340bbe63a184e823ebb6d",
     "grade": true,
     "grade_id": "insightsF",
     "locked": false,
     "points": 6,
     "schema_version": 3,
     "solution": true,
     "task": false
    }
   },
   "source": [
    "Min count/cutoff removes from the language model those n-grams that occur infrequently in the training data. Reducing the size of n-gram language models is sometimes necessary, as the number of even bigrams (also for trigrams, 4-grams, etc.) explodes for larger corpora. The remaning information (n-gram counts) can then be used to statistically better estimate the probability of a word given the (n-1) previous words. Removing infrequent words provides more compact vector representation, association between words can be represented well for the remaining words.\n",
    "\n"
   ]
  }
 ],
 "metadata": {
  "kernelspec": {
   "display_name": "Python (study)",
   "language": "python",
   "name": "study"
  },
  "language_info": {
   "codemirror_mode": {
    "name": "ipython",
    "version": 3
   },
   "file_extension": ".py",
   "mimetype": "text/x-python",
   "name": "python",
   "nbconvert_exporter": "python",
   "pygments_lexer": "ipython3",
   "version": "3.5.6"
  }
 },
 "nbformat": 4,
 "nbformat_minor": 4
}
