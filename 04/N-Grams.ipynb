{
 "cells": [
  {
   "cell_type": "markdown",
   "metadata": {
    "deletable": false,
    "editable": false,
    "nbgrader": {
     "cell_type": "markdown",
     "checksum": "fd4dc6718ea0b7b66da33b181c834c83",
     "grade": false,
     "grade_id": "header",
     "locked": true,
     "schema_version": 3,
     "solution": false,
     "task": false
    }
   },
   "source": [
    "<div class=\"alert alert-block alert-info\">\n",
    "    <h1>Natural Language Processing</h1>\n",
    "    <h3>General Information:</h3>\n",
    "    <p>Please do not add or delete any cells. Answers belong into the corresponding cells (below the question). If a function is given (either as a signature or a full function), you should not change the name, arguments or return value of the function.<br><br> If you encounter empty cells underneath the answer that can not be edited, please ignore them, they are for testing purposes.<br><br>When editing an assignment there can be the case that there are variables in the kernel. To make sure your assignment works, please restart the kernel and run all cells before submitting (e.g. via <i>Kernel -> Restart & Run All</i>).</p>\n",
    "    <p>Code cells where you are supposed to give your answer often include the line  ```raise NotImplementedError```. This makes it easier to automatically grade answers. If you edit the cell please outcomment or delete this line.</p>\n",
    "    <h3>Submission:</h3>\n",
    "    <p>Please submit your notebook via the web interface (in the main view -> Assignments -> Submit). The assignments are due on <b>Wednesday at 15:00</b>. If this does not work there is a submission slot on LEA.</p>\n",
    "    <h3>Group Work:</h3>\n",
    "    <p>You are allowed to work in groups of up to two people. Please enter the UID (your username here) of each member of the group into the next cell. We apply plagiarism checking, so do not submit solutions from other people except your team members. If an assignment has a copied solution, the task will be graded with 0 points for all people with the same solution.</p>\n",
    "    <h3>Questions about the Assignment:</h3>\n",
    "    <p>If you have questions about the assignment please post them in the LEA forum before the deadline. Don't wait until the last day to post questions.</p>\n",
    "    \n",
    "</div>"
   ]
  },
  {
   "cell_type": "code",
   "execution_count": 1,
   "metadata": {},
   "outputs": [],
   "source": [
    "'''\n",
    "Group Work:\n",
    "Enter the UID of each team member into the variables. \n",
    "If you work alone please leave the second variable empty.\n",
    "'''\n",
    "member1 = 'dpadma2s'\n",
    "member2 = 'smuthi2s'\n",
    "member3 = 'vmoham2s'"
   ]
  },
  {
   "cell_type": "markdown",
   "metadata": {
    "deletable": false,
    "editable": false,
    "nbgrader": {
     "cell_type": "markdown",
     "checksum": "10847ec7a2dab1b133200c3c83a346e1",
     "grade": false,
     "grade_id": "bigram_description",
     "locked": true,
     "schema_version": 3,
     "solution": false,
     "task": false
    }
   },
   "source": [
    "# Bigram Language Model\n",
    "\n",
    "We want to build a count based bigram language model based on the book *Emma* by *Jane Austen*.\n",
    "\n",
    "In the next cell the book is read into the variables ```emma_sents``` and ```emma_words```.\n",
    "\n",
    "If the cell throws an error please execute the outcommented lines to download the data needed. This only needs to be done once."
   ]
  },
  {
   "cell_type": "code",
   "execution_count": 2,
   "metadata": {},
   "outputs": [],
   "source": [
    "from nltk.corpus import gutenberg\n",
    "\n",
    "#import nltk\n",
    "#nltk.download('gutenberg')\n",
    "#nltk.download('punkt')\n",
    "\n",
    "emma_sents = gutenberg.sents('austen-emma.txt')\n",
    "emma_words = gutenberg.words('austen-emma.txt')"
   ]
  },
  {
   "cell_type": "markdown",
   "metadata": {
    "deletable": false,
    "editable": false,
    "nbgrader": {
     "cell_type": "markdown",
     "checksum": "0f95a0c996694bc6239503bda49147a4",
     "grade": false,
     "grade_id": "statistics_description",
     "locked": true,
     "schema_version": 3,
     "solution": false,
     "task": false
    }
   },
   "source": [
    "## 1.1) Statistics [2 Points]\n",
    "\n",
    "Please calculate the number of types and tokens for the book and save the values in the variables ```types``` and ```tokens```."
   ]
  },
  {
   "cell_type": "code",
   "execution_count": 3,
   "metadata": {
    "deletable": false,
    "nbgrader": {
     "cell_type": "code",
     "checksum": "63421c1642dea2a2f364ad97c5aabb9c",
     "grade": false,
     "grade_id": "statistics",
     "locked": false,
     "schema_version": 3,
     "solution": true,
     "task": false
    }
   },
   "outputs": [
    {
     "name": "stdout",
     "output_type": "stream",
     "text": [
      "The book Emma by Jane Austen consists of 192427 tokens and 7811 types.\n"
     ]
    }
   ],
   "source": [
    "types = len(set(emma_words)) # Unique item of vocabulary\n",
    "tokens = len(emma_words) # words and punctuation symbols - sequence of characters\n",
    "\n",
    "print('The book Emma by Jane Austen consists of {} tokens and {} types.'.format(\n",
    "    tokens,\n",
    "    types\n",
    "))\n",
    "\n",
    "# Reference: https://www.nltk.org/book/ch01.html"
   ]
  },
  {
   "cell_type": "code",
   "execution_count": 4,
   "metadata": {
    "deletable": false,
    "editable": false,
    "nbgrader": {
     "cell_type": "code",
     "checksum": "8d38743ffb51ce1b8acc4255068ce912",
     "grade": true,
     "grade_id": "test_statistics",
     "locked": true,
     "points": 2,
     "schema_version": 3,
     "solution": false,
     "task": false
    }
   },
   "outputs": [],
   "source": [
    "# This is a test cell, please ignore it!"
   ]
  },
  {
   "cell_type": "markdown",
   "metadata": {
    "deletable": false,
    "editable": false,
    "nbgrader": {
     "cell_type": "markdown",
     "checksum": "a38b6c5f76f5934e87f58860b22f707b",
     "grade": false,
     "grade_id": "heaps_law_description",
     "locked": true,
     "schema_version": 3,
     "solution": false,
     "task": false
    }
   },
   "source": [
    "## 1.2) Heap's Law\n",
    "\n",
    "Let us validate Heap's law from the first chapter we read:\n",
    "\n",
    "$|V| = k * N^{\\beta}$"
   ]
  },
  {
   "cell_type": "markdown",
   "metadata": {
    "deletable": false,
    "editable": false,
    "nbgrader": {
     "cell_type": "markdown",
     "checksum": "ab151c3741274b3f4f244e106a90f616",
     "grade": false,
     "grade_id": "heaps_law_empirical_description",
     "locked": true,
     "schema_version": 3,
     "solution": false,
     "task": false
    }
   },
   "source": [
    "### 1.2.1) Empirical Study [5 Points]\n",
    "\n",
    "We first want to plot the relationship between types and tokens for the book *Emma* by *Jane Austen*.\n",
    "\n",
    "For this you should fill the lists ```number_of_types``` and ```number_of_tokens``` with the corresponding values.\n",
    "\n",
    "So we want to investigate how many types we have after 1 token, 2 tokens, 3 tokens until we have read all the words from the book.\n",
    "\n",
    "*Example:*\n",
    "\n",
    "- ```number_of_tokens```: ```[1, 2, 3, ..., 16, 17, 18, ...]```\n",
    "- ```number_of_types```:  ```[1, 2, 3, ..., 13, 14, 14, ...]```"
   ]
  },
  {
   "cell_type": "code",
   "execution_count": 5,
   "metadata": {
    "deletable": false,
    "nbgrader": {
     "cell_type": "code",
     "checksum": "76b886d6a7d0ff2914a6e118c0c23d6c",
     "grade": false,
     "grade_id": "heaps_law_empirical",
     "locked": false,
     "schema_version": 3,
     "solution": true,
     "task": false
    }
   },
   "outputs": [
    {
     "name": "stdout",
     "output_type": "stream",
     "text": [
      "After reading 10 tokens we found 10 types.\n",
      "After reading 100 tokens we found 70 types.\n",
      "After reading 1000 tokens we found 410 types.\n",
      "After reading 10000 tokens we found 1745 types.\n"
     ]
    }
   ],
   "source": [
    "number_of_tokens = []\n",
    "number_of_types = []\n",
    "\n",
    "\n",
    "def get_token_types(book_words):\n",
    "    number_of_tokens = []\n",
    "    number_of_types = []\n",
    "    number_of_tokens = range(1,len(book_words)+1)\n",
    "    types = []\n",
    "    types_count = 0\n",
    "    for idx,word in enumerate(book_words):\n",
    "        if word not in types:\n",
    "            types.append(word)\n",
    "            types_count+=1\n",
    "        number_of_types.append(types_count)\n",
    "    \n",
    "    return list(number_of_tokens), number_of_types\n",
    "\n",
    "    \n",
    "    \n",
    "number_of_tokens, number_of_types = get_token_types(emma_words)\n",
    "\n",
    "for i in [10, 100, 1000, 10000]:\n",
    "    print('After reading {} tokens we found {} types.'.format(\n",
    "        number_of_tokens[i - 1], number_of_types[i - 1]\n",
    "    ))"
   ]
  },
  {
   "cell_type": "code",
   "execution_count": 6,
   "metadata": {
    "deletable": false,
    "editable": false,
    "nbgrader": {
     "cell_type": "code",
     "checksum": "9ebd364cde2fdd6d12f83d213e61e437",
     "grade": true,
     "grade_id": "test_heaps_law_empirical",
     "locked": true,
     "points": 5,
     "schema_version": 3,
     "solution": false,
     "task": false
    }
   },
   "outputs": [],
   "source": [
    "# This is a test cell, please ignore it!"
   ]
  },
  {
   "cell_type": "markdown",
   "metadata": {
    "deletable": false,
    "editable": false,
    "nbgrader": {
     "cell_type": "markdown",
     "checksum": "a61273fee38e03e4c92851116fba7e65",
     "grade": false,
     "grade_id": "empirical_plot_description",
     "locked": true,
     "schema_version": 3,
     "solution": false,
     "task": false
    }
   },
   "source": [
    "### 1.2.2) Plot [5 Points]\n",
    "\n",
    "Please plot your findings:\n",
    "\n",
    "- x-Axis: Number of tokens\n",
    "- y-Axis: Number of types\n",
    "\n",
    "Make sure your plot has a grid, a legend, a title and x- and y-label.\n",
    "\n",
    "Add the values for the three books by Jane Austen as points in the plot."
   ]
  },
  {
   "cell_type": "code",
   "execution_count": 21,
   "metadata": {
    "deletable": false,
    "nbgrader": {
     "cell_type": "code",
     "checksum": "7cad5070403a371e26f134daf1645cff",
     "grade": true,
     "grade_id": "empirical_plot",
     "locked": false,
     "points": 5,
     "schema_version": 3,
     "solution": true,
     "task": false
    }
   },
   "outputs": [
    {
     "data": {
      "image/png": "[encoded data removed]",
      "text/plain": [
       "<Figure size 720x432 with 1 Axes>"
      ]
     },
     "metadata": {
      "needs_background": "light"
     },
     "output_type": "display_data"
    }
   ],
   "source": [
    "import matplotlib.pyplot as plt\n",
    "\n",
    "# Book 1: Emma\n",
    "plt.figure(figsize=(10, 6))\n",
    "number_of_tokens,number_of_types = get_token_types(emma_words)\n",
    "plt.plot(number_of_tokens,number_of_types, label='Book-Emma', c='r')\n",
    "plt.scatter(len(number_of_tokens), number_of_types[-1], label='Book-Emma total', c='r')\n",
    "\n",
    "\n",
    "# Book 2: 'austen-persuasion.txt'\n",
    "persuasion_words = gutenberg.words('austen-persuasion.txt')\n",
    "number_of_tokens,number_of_types = get_token_types(persuasion_words)\n",
    "plt.plot(number_of_tokens,number_of_types, label='Book-Persuasion', c='b')\n",
    "plt.scatter(len(number_of_tokens), number_of_types[-1], label='Book-Persuasion total', c='b')\n",
    "\n",
    "# Book 3: , 'austen-sense.txt'\n",
    "sense_words = gutenberg.words('austen-sense.txt')\n",
    "number_of_tokens,number_of_types = get_token_types(sense_words)\n",
    "plt.plot(number_of_tokens,number_of_types, label='Book-Sense', c='k')\n",
    "plt.scatter(len(number_of_tokens), number_of_types[-1], label='Book-Sense total', c='k')\n",
    "\n",
    "\n",
    "plt.xlabel('Number of tokens, [N]')\n",
    "plt.ylabel('Number of types, [|V|]')\n",
    "plt.title('Relationship between types and tokens')\n",
    "plt.legend()\n",
    "plt.grid()\n",
    "plt.show()"
   ]
  },
  {
   "cell_type": "markdown",
   "metadata": {
    "deletable": false,
    "editable": false,
    "nbgrader": {
     "cell_type": "markdown",
     "checksum": "3d25786264965da44f6b121f9994f5f1",
     "grade": false,
     "grade_id": "parameter_estimation_description",
     "locked": true,
     "schema_version": 3,
     "solution": false,
     "task": false
    }
   },
   "source": [
    "### 1.2.3) Estimate parameters $k$ and $\\beta$\n",
    "\n",
    "We want to estimate the parameters $k$ and $\\beta$ for Heap's law based on our book.\n",
    "\n",
    "Use the function ```curve_fit``` from ```scipy.optimize``` with the previously calculated lists. Save your solution in the variables ```k``` and ```beta```.\n",
    "\n",
    "```curve_fit``` takes in three arguments, the function that relatex x values to y values together with its parameters, the observed x-values and the observed y-values. It return popt (the optimal parameters) and pcov (how well they fit)."
   ]
  },
  {
   "cell_type": "code",
   "execution_count": 8,
   "metadata": {
    "deletable": false,
    "nbgrader": {
     "cell_type": "code",
     "checksum": "3fb940e2d3b52652a1d70cf112e30d4d",
     "grade": false,
     "grade_id": "parameter_estimation",
     "locked": false,
     "schema_version": 3,
     "solution": true,
     "task": false
    }
   },
   "outputs": [
    {
     "name": "stdout",
     "output_type": "stream",
     "text": [
      "For the book Emma estimate k = 20.59 and beta = 0.49\n"
     ]
    }
   ],
   "source": [
    "from copy import deepcopy\n",
    "from scipy.optimize import curve_fit\n",
    "\n",
    "# V = k (N^b) \n",
    "def func(x, k, beta):\n",
    "    return k * x**beta\n",
    "\n",
    "k = 0\n",
    "beta = 0\n",
    "\n",
    "number_of_tokens, number_of_types = get_token_types(emma_words)\n",
    "\n",
    "N = deepcopy(number_of_tokens)\n",
    "V = deepcopy(number_of_types)\n",
    "\n",
    "popt, pcov = curve_fit(func, N, V)\n",
    "\n",
    "k = popt[0]\n",
    "beta = popt[1]\n",
    "\n",
    "\n",
    "print('For the book Emma estimate k = {:.2f} and beta = {:.2f}'.format(\n",
    "    k,\n",
    "    beta\n",
    "))"
   ]
  },
  {
   "cell_type": "code",
   "execution_count": 9,
   "metadata": {
    "deletable": false,
    "editable": false,
    "nbgrader": {
     "cell_type": "code",
     "checksum": "899356ffc59af2440c77aa3985896980",
     "grade": true,
     "grade_id": "test_parameter_estimation",
     "locked": true,
     "points": 5,
     "schema_version": 3,
     "solution": false,
     "task": false
    }
   },
   "outputs": [],
   "source": [
    "# This is a test cell, please ignore it!"
   ]
  },
  {
   "cell_type": "markdown",
   "metadata": {
    "deletable": false,
    "editable": false,
    "nbgrader": {
     "cell_type": "markdown",
     "checksum": "94d553e7a9de391ec13015248529b723",
     "grade": false,
     "grade_id": "combined_plot_description",
     "locked": true,
     "schema_version": 3,
     "solution": false,
     "task": false
    }
   },
   "source": [
    "### 1.2.4) Combined plot [5 Points]\n",
    "\n",
    "In our Gutenberg corpus we have the following books by Jane Austen:\n",
    "\n",
    "- Emma ```gutenberg.words('austen-emma.txt')```\n",
    "- Sense ```gutenberg.words('austen-sense.txt')```\n",
    "- Persuasion ```gutenberg.words('austen-persuasion.txt')```\n",
    "\n",
    "Plot the number of types and tokens for each book as a point (total number of types and tokens) together with the function $|V| = k N^{\\beta}$ with your estimated parameters."
   ]
  },
  {
   "cell_type": "code",
   "execution_count": 10,
   "metadata": {
    "deletable": false,
    "nbgrader": {
     "cell_type": "code",
     "checksum": "329cb0a813dfa9ca5a0aa0c2d572b9af",
     "grade": true,
     "grade_id": "combined_plot",
     "locked": false,
     "points": 5,
     "schema_version": 3,
     "solution": true,
     "task": false
    }
   },
   "outputs": [
    {
     "data": {
      "image/png": "[encoded data removed]",
      "text/plain": [
       "<Figure size 720x432 with 1 Axes>"
      ]
     },
     "metadata": {
      "needs_background": "light"
     },
     "output_type": "display_data"
    }
   ],
   "source": [
    "import matplotlib.pyplot as plt\n",
    "\n",
    "plt.figure(figsize=(10, 6))\n",
    "\n",
    "# Book 1: 'austen-emma.txt'\n",
    "# Get Token, Types\n",
    "emma_words = gutenberg.words('austen-emma.txt')\n",
    "number_of_tokens, number_of_types = get_token_types(emma_words)\n",
    "N = number_of_tokens\n",
    "V = number_of_types\n",
    "\n",
    "# Evaluate New V for N,V of the document\n",
    "popt, pcov = curve_fit(func, N, V)\n",
    "k = popt[0]\n",
    "beta = popt[1]\n",
    "V = k * (N**beta)\n",
    "\n",
    "# Plot\n",
    "# print(len(number_of_tokens), number_of_types[-1], len(emma_words), len(set(emma_words)))\n",
    "plt.scatter(len(number_of_tokens), number_of_types[-1], label='Book-Emma total', c='r')\n",
    "plt.plot(N, V, label='Book-Emma,k = {:.2f} and beta = {:.2f}'.format(k,beta), c='r')\n",
    "\n",
    "\n",
    "# Book 2: 'austen-persuasion.txt'\n",
    "# Get Token, Types\n",
    "persuasion_words = gutenberg.words('austen-persuasion.txt')\n",
    "number_of_tokens, number_of_types = get_token_types(persuasion_words)\n",
    "N = number_of_tokens\n",
    "V = number_of_types\n",
    "\n",
    "# Evaluate New V for N,V of the document\n",
    "popt, pcov = curve_fit(func, N, V)\n",
    "k = popt[0]\n",
    "beta = popt[1]\n",
    "V = k * (N**beta)\n",
    "\n",
    "# Plot\n",
    "# print(len(number_of_tokens), number_of_types[-1], len(persuasion_words), len(set(persuasion_words)))\n",
    "plt.scatter(len(number_of_tokens), number_of_types[-1], label='Book-Persuasion total', c='b')\n",
    "plt.plot(N, V, label='Book-Persuasion,k = {:.2f} and beta = {:.2f}'.format(k,beta), c='b')\n",
    "\n",
    "# Book 3: , 'austen-sense.txt'\n",
    "# Get Token, Types\n",
    "sense_words = gutenberg.words('austen-sense.txt')\n",
    "number_of_tokens, number_of_types = get_token_types(sense_words)\n",
    "N = number_of_tokens\n",
    "V = number_of_types\n",
    "\n",
    "# Evaluate New V for N,V of the document\n",
    "popt, pcov = curve_fit(func, N, V)\n",
    "k = popt[0]\n",
    "beta = popt[1]\n",
    "V = k * (N**beta)\n",
    "\n",
    "# Plot\n",
    "# print(len(number_of_tokens), number_of_types[-1], len(sense_words), len(set(sense_words)))\n",
    "plt.scatter(len(number_of_tokens), number_of_types[-1], label='Book-Sense total', c='k')\n",
    "plt.plot(N, V, label='Book-Sense,k = {:.2f} and beta = {:.2f}'.format(k,beta), c='k')\n",
    "\n",
    "# Plot cleaning\n",
    "plt.xlabel('Number of tokens, [N]')\n",
    "plt.ylabel('Number of types, [|V|]')\n",
    "plt.title('Relationship between types and tokens')\n",
    "plt.legend()\n",
    "plt.grid()\n",
    "\n",
    "plt.show()"
   ]
  },
  {
   "cell_type": "markdown",
   "metadata": {
    "deletable": false,
    "editable": false,
    "nbgrader": {
     "cell_type": "markdown",
     "checksum": "6d6b8f398ec8d35c8ec0db2b70404fd4",
     "grade": false,
     "grade_id": "bigram_model_description",
     "locked": true,
     "schema_version": 3,
     "solution": false,
     "task": false
    }
   },
   "source": [
    "## 2.1) Bigram Model [40 Points]\n",
    "\n",
    "We now want to build a bigram language model from the book *Emma* by *Jane Austen*.\n",
    "\n",
    "For this you should use the class given in the next cell.\n",
    "\n",
    "1. Read in the sentences from the book *Emma* by *Jane Austen*\n",
    "2. Write a method that returns the unigram count\n",
    "3. Write a method that returns the unigram probability\n",
    "4. Write a method that returns the bigram count\n",
    "5. Write a method that returns the bigram probability\n",
    "6. Write a method that returns the sentence probability based on bigrams\n",
    "\n",
    "*Hints:*\n",
    "\n",
    "- The next cell gives you some inspiration on how to implement the counting of bigrams\n",
    "- Everything should be precomputed in the constructor (```__init__```) and the other functions should not recount anything. If implemented efficiently all the computation will be done in a few seconds (less than 10)!\n",
    "- This class should be **self-contained** and not depend on any code from previous cells!\n",
    "- The ```window``` function is a memory friendly iterator over a list that gives you all n-grams from the list"
   ]
  },
  {
   "cell_type": "code",
   "execution_count": 11,
   "metadata": {
    "deletable": false,
    "editable": false,
    "nbgrader": {
     "cell_type": "code",
     "checksum": "9cd12e6c6e73e0dc28f3bfbb103d7072",
     "grade": false,
     "grade_id": "bigram_model_example",
     "locked": true,
     "schema_version": 3,
     "solution": false,
     "task": false
    }
   },
   "outputs": [
    {
     "name": "stdout",
     "output_type": "stream",
     "text": [
      "[[0 2 0 0 0 0]\n",
      " [0 0 1 0 0 1]\n",
      " [0 0 0 3 0 0]\n",
      " [1 0 0 0 0 2]\n",
      " [1 0 2 0 0 0]\n",
      " [0 0 0 0 2 0]]\n",
      "The bigram (\"I\", \"have\") exists 2 times.\n"
     ]
    }
   ],
   "source": [
    "'''\n",
    "Example (you do not need to edit this cell):\n",
    "\n",
    "Suppose you have a very small corpus consisting of only the\n",
    "four unique words 'I', 'have', 'a', 'dog' and \n",
    "the sentence start and end markers '<s>' and '</s>'\n",
    "\n",
    "The corpus has the three sentences\n",
    "- <s> I have a dog </s>\n",
    "- <s> a dog I have </s>\n",
    "- <s> a dog </s>\n",
    "'''\n",
    "import numpy as np\n",
    "\n",
    "# First we define the index for each word (the order does not matter)\n",
    "index = {\n",
    "    'I': 0,\n",
    "    'have': 1,\n",
    "    'a': 2,\n",
    "    'dog': 3,\n",
    "    '<s>': 4,\n",
    "    '</s>': 5\n",
    "}\n",
    "\n",
    "# These are our bigrams from the sentences\n",
    "bigrams = [('<s>', 'I'), ('I', 'have'), ('have', 'a'), ('a', 'dog'), ('dog', '</s>'),\n",
    "           ('</s>', '<s>'), ('<s>', 'a'), ('a', 'dog'), ('dog', 'I'), ('I', 'have'), ('have', '</s>'),\n",
    "           ('</s>', '<s>'), ('<s>', 'a'), ('a', 'dog'), ('dog', '</s>')]\n",
    "\n",
    "# Next we create a matrix for the bigram counts,\n",
    "# each entry is a 16 Bit unsigned integer (dtype=np.uint16)\n",
    "counts = np.zeros((len(index), len(index)), dtype=np.uint16)\n",
    "\n",
    "# Fill it with the counts\n",
    "for bigram in bigrams:\n",
    "    index_first_word = index[bigram[0]]\n",
    "    index_second_word = index[bigram[1]]\n",
    "    counts[index_first_word, index_second_word] += 1\n",
    "    \n",
    "# Print out count matrix\n",
    "print(counts)\n",
    "\n",
    "# Check the count for the bigram ('I', 'have'):\n",
    "print('The bigram (\"I\", \"have\") exists {} times.'.format(\n",
    "    counts[index['I'], index['have']]\n",
    "))"
   ]
  },
  {
   "cell_type": "code",
   "execution_count": 12,
   "metadata": {
    "deletable": false,
    "nbgrader": {
     "cell_type": "code",
     "checksum": "3561961f89240f0cb23c59c5187c16e5",
     "grade": false,
     "grade_id": "bigram_model",
     "locked": false,
     "schema_version": 3,
     "solution": true,
     "task": false
    }
   },
   "outputs": [
    {
     "name": "stdout",
     "output_type": "stream",
     "text": [
      "The unigram \"I\" appears 3178 times in the book!\n",
      "The probability for the unigram \"Emma\" is 0.0042.\n",
      "The bigram \"I am\" appears 395 times in the book!\n",
      "The probability for the bigram \"I have\" is 0.0884.\n",
      "The sentence probability for the sentence \"What a horrible idea!\" is 6.4835e-10.\n"
     ]
    }
   ],
   "source": [
    "import numpy as np\n",
    "from typing import List\n",
    "from collections import Counter\n",
    "from itertools import islice\n",
    "from nltk.corpus import gutenberg\n",
    "\n",
    "class BigramModel:\n",
    "    \n",
    "    def __init__(self, sentences: List[List[str]]):\n",
    "        '''\n",
    "        Takes in a list of sentences, where each sentence is a \n",
    "        list of words.\n",
    "        \n",
    "        Arguments:\n",
    "            sentences -- List of lists of words (e.g. [['I', 'have', 'a', 'dog'],\n",
    "                                                       ['a', 'dog', 'I', 'have']])\n",
    "        '''\n",
    "        self.unigram_counts = {'<s>':0,'</s>':0}\n",
    "        self.bigram_counts = {}\n",
    "        for sentence in sentences:\n",
    "            self.unigram_counts['<s>']+=1\n",
    "            self.unigram_counts['</s>']+=1\n",
    "            for word in sentence:\n",
    "                if word not in self.unigram_counts.keys():\n",
    "                    self.unigram_counts[word]=0\n",
    "                self.unigram_counts[word]+=1\n",
    "            key = ('<s>',sentence[0])\n",
    "            if key not in self.bigram_counts.keys():\n",
    "                self.bigram_counts[key]=0\n",
    "            self.bigram_counts[key]+=1\n",
    "            for key in self.window(sentence):\n",
    "                if key not in self.bigram_counts.keys():\n",
    "                    self.bigram_counts[key]=0\n",
    "                self.bigram_counts[key]+=1\n",
    "            key = (sentence[-1],'</s>')\n",
    "            if key not in self.bigram_counts.keys():\n",
    "                self.bigram_counts[key]=0\n",
    "            self.bigram_counts[key]+=1\n",
    "        \n",
    "    def window(self, seq, n=2):\n",
    "        '''\n",
    "        Returns a sliding window (of width n) over data from the iterable\n",
    "        \n",
    "        Arguments:\n",
    "            seq      -- the iterable (e.g. list, set, etc) to run the window over\n",
    "            n        -- the size of the window\n",
    "        Returns:\n",
    "            iterator -- an iterator over the sliding windows\n",
    "            \n",
    "        Usage:\n",
    "            my_list = [1, 2, 3, 4]\n",
    "            for slice in self.window(my_list):\n",
    "                print(slice)\n",
    "                \n",
    "            # Output: (1, 2)\n",
    "                      (2, 3)\n",
    "                      (3, 4)\n",
    "        '''\n",
    "        \"Returns a sliding window (of width n) over data from the iterable\"\n",
    "        \"   s -> (s0,s1,...s[n-1]), (s1,s2,...,sn), ...                   \"\n",
    "        it = iter(seq)\n",
    "        result = tuple(islice(it, n))\n",
    "        if len(result) == n:\n",
    "            yield result\n",
    "        for elem in it:\n",
    "            result = result[1:] + (elem,)\n",
    "            yield result\n",
    "            \n",
    "    def unigram_count(self, word: str) -> int:\n",
    "        '''\n",
    "        Returns the unigram count for the word.\n",
    "        If the word does not exist in our corpus, return 0.\n",
    "        \n",
    "        Arguments:\n",
    "            word  -- word we want to know the count of\n",
    "        Returns:\n",
    "            count -- how often the word appears in the corpus\n",
    "        '''\n",
    "\n",
    "        return 0 if word not in self.unigram_counts.keys() else self.unigram_counts[word]\n",
    "        \n",
    "    def unigram_probability(self, word:str) -> float:\n",
    "        '''\n",
    "        Returns the unigram probability for the word.\n",
    "        If the word does not exist in our corpus, return 0.\n",
    "        \n",
    "        Arguments:\n",
    "            word        -- word we want to know the probability of\n",
    "        Returns:\n",
    "            probability -- how likely it is to choose the word at random\n",
    "        '''\n",
    "        return 0 if word not in self.unigram_counts.keys() else self.unigram_count(word)/sum(self.unigram_counts.values())\n",
    "    \n",
    "    def bigram_count(self, word1:str, word2:str) -> int:\n",
    "        '''\n",
    "        Returns the bigram count for the word1 followed by word2.\n",
    "        If either of the words does not exist in our corpus, return 0.\n",
    "        \n",
    "        Arguments:\n",
    "            word1  -- first word of the bigram\n",
    "            word2  -- second word of the bigram\n",
    "        Returns:\n",
    "            count  -- how often the bigram appears in the corpus\n",
    "        '''\n",
    "        key = (word1,word2)\n",
    "        return 0 if key not in self.bigram_counts.keys() else self.bigram_counts[key]\n",
    "        \n",
    "    def bigram_probability(self, word1:str, word2:str) -> float:\n",
    "        '''\n",
    "        Returns the bigram probability for the word1 followed by word2.\n",
    "        This is the conditional probability P(word2 | word1).\n",
    "        If either of the words does not exist in our corpus, return 0.\n",
    "        \n",
    "        Arguments:\n",
    "            word1       -- first word of the bigram\n",
    "            word2       -- second word of the bigram\n",
    "        Returns:\n",
    "            probability -- how likely it is to choose the word at random\n",
    "        '''\n",
    "        key = (word1,word2)\n",
    "        return 0 if key not in self.bigram_counts.keys() else self.bigram_count(word1,word2)/self.unigram_count(word1)\n",
    "    \n",
    "    def sentence_probability(self, sentence:List[str]) -> float:\n",
    "        '''\n",
    "        Return the probability for the given sentence based on our\n",
    "        bigram probabilities\n",
    "        \n",
    "        Arguments:\n",
    "            sentence    -- list of tokens from the sentence \n",
    "                           (e.g. ['<s>', 'I', 'have', 'a', 'dog', '</s>'])\n",
    "        Returns:\n",
    "            probability -- probability of the sentence\n",
    "        '''\n",
    "        prob = 1\n",
    "        for key in self.window(sentence):\n",
    "            if key not in self.bigram_counts.keys():\n",
    "                return 0\n",
    "            else:\n",
    "                prob*=self.bigram_probability(key[0],key[1])\n",
    "        return prob\n",
    "          \n",
    "model = BigramModel(gutenberg.sents('austen-emma.txt'))\n",
    "\n",
    "# Some prints and tests\n",
    "\n",
    "print('The unigram \"I\" appears {} times in the book!'.format(\n",
    "    model.unigram_count('I')\n",
    ")) ## Should print 3178\n",
    "\n",
    "print('The probability for the unigram \"Emma\" is {:.4f}.'.format(\n",
    "    model.unigram_probability('Emma')\n",
    ")) ## Should print 0.0042\n",
    "\n",
    "print('The bigram \"I am\" appears {} times in the book!'.format(\n",
    "    model.bigram_count('I', 'am')\n",
    ")) ## Should print 395\n",
    "\n",
    "print('The probability for the bigram \"I have\" is {:.4f}.'.format(\n",
    "    model.bigram_probability('I', 'have')\n",
    ")) ## Should print 0.0014\n",
    "\n",
    "print('The sentence probability for the sentence \"What a horrible idea!\" is {:.4e}.'.format(\n",
    "    model.sentence_probability(['<s>', 'What', 'a', 'horrible', 'idea', '!', '</s>'])\n",
    ")) ## Should print 5.2221e-27"
   ]
  },
  {
   "cell_type": "code",
   "execution_count": 13,
   "metadata": {
    "deletable": false,
    "editable": false,
    "nbgrader": {
     "cell_type": "code",
     "checksum": "62c747bc71fecfa419b8d4430cc82308",
     "grade": true,
     "grade_id": "test_bigram_model",
     "locked": true,
     "points": 40,
     "schema_version": 3,
     "solution": false,
     "task": false
    }
   },
   "outputs": [],
   "source": [
    "# This is a test cell, please ignore it!"
   ]
  },
  {
   "cell_type": "markdown",
   "metadata": {
    "deletable": false,
    "editable": false,
    "nbgrader": {
     "cell_type": "markdown",
     "checksum": "80d3789304ac539a0fbf84ebc770bdf8",
     "grade": false,
     "grade_id": "bigram_application_description",
     "locked": true,
     "schema_version": 3,
     "solution": false,
     "task": false
    }
   },
   "source": [
    "## 2.2) Using the model [8 Points]\n",
    "\n",
    "With our model we can now answer some questions.\n",
    "\n",
    "1. How often does a certain word appear in the book?\n",
    "    - Give the number of times the word 'dog' appears in the book - Store this in the variable ```count_dog```.\n",
    "    - Give the number of times the word 'She' appears in the book - Store this in the variable ```count_She```.\n",
    "2. How many sentences start or end with a certain word or token?\n",
    "    - Give the probability that a sentence starts with the word 'I' - Store this in the variable ```p_sentence_begins_with_I```\n",
    "    - Give the probability that a sentence ends with '!' - Store this in the variable ```p_sentence_ends_in_exlamation```"
   ]
  },
  {
   "cell_type": "code",
   "execution_count": 14,
   "metadata": {
    "deletable": false,
    "nbgrader": {
     "cell_type": "code",
     "checksum": "ac95a73c38d812c5f54b0905eec6bb46",
     "grade": false,
     "grade_id": "bigram_application",
     "locked": false,
     "schema_version": 3,
     "solution": true,
     "task": false
    }
   },
   "outputs": [
    {
     "name": "stdout",
     "output_type": "stream",
     "text": [
      "The word \"dog\" appears 1 time(s) in the book.\n",
      "The word \"She\" appears 562 time(s) in the book.\n",
      "The probability that a sentence starts with \"I\" is 0.0838\n",
      "The probability that a sentence ends in \"!\" is 0.0708\n"
     ]
    }
   ],
   "source": [
    "model = BigramModel(gutenberg.sents('austen-emma.txt'))\n",
    "\n",
    "count_dog = 0\n",
    "count_She = 0\n",
    "p_sentence_begins_with_I = 0\n",
    "p_sentence_ends_in_exlamation = 0\n",
    "\n",
    "count_dog = model.unigram_count('dog')\n",
    "count_She = model.unigram_count('She')\n",
    "p_sentence_begins_with_I = model.bigram_probability('<s>','I')\n",
    "# p_sentence_ends_in_exlamation = model.unigram_count('!')/model.unigram_count('</s>')\n",
    "p_sentence_ends_in_exlamation = model.bigram_probability('!', '</s>') * model.unigram_probability('!') / model.unigram_probability('</s>')\n",
    "\n",
    "\n",
    "\n",
    "print('The word \"dog\" appears {} time(s) in the book.'.format(\n",
    "    count_dog\n",
    "))\n",
    "print('The word \"She\" appears {} time(s) in the book.'.format(\n",
    "    count_She\n",
    "))\n",
    "print('The probability that a sentence starts with \"I\" is {:.4f}'.format(\n",
    "    p_sentence_begins_with_I\n",
    "))\n",
    "print('The probability that a sentence ends in \"!\" is {:.4f}'.format(\n",
    "    p_sentence_ends_in_exlamation\n",
    "))"
   ]
  },
  {
   "cell_type": "code",
   "execution_count": 15,
   "metadata": {
    "deletable": false,
    "editable": false,
    "nbgrader": {
     "cell_type": "code",
     "checksum": "dc4d86a7225fe4a099bb9bf2e75abb05",
     "grade": true,
     "grade_id": "test_bigram_application",
     "locked": true,
     "points": 8,
     "schema_version": 3,
     "solution": false,
     "task": false
    }
   },
   "outputs": [],
   "source": [
    "# This is a test cell, please ignore it!"
   ]
  },
  {
   "cell_type": "markdown",
   "metadata": {
    "deletable": false,
    "editable": false,
    "nbgrader": {
     "cell_type": "markdown",
     "checksum": "327b6603f6023ffa7dcc52cf92648632",
     "grade": false,
     "grade_id": "k_smooth_model_description",
     "locked": true,
     "schema_version": 3,
     "solution": false,
     "task": false
    }
   },
   "source": [
    "## 2.3) Add-k-Smoothing [15 Points]\n",
    "\n",
    "We now want to take our BigramModel and apply **add-k-smoothing** to it.\n",
    "\n",
    "For this we can write a subclass ```KSmoothBigramModel``` that **inherits** from our ```BigramModel```. \n",
    "\n",
    "Then we only need to overwrite the count functions to apply add-k-smoothing.\n",
    "\n",
    "[Here you find some information about inheritance in Python.](https://www.w3schools.com/python/python_inheritance.asp)"
   ]
  },
  {
   "cell_type": "code",
   "execution_count": 16,
   "metadata": {
    "deletable": false,
    "nbgrader": {
     "cell_type": "code",
     "checksum": "b230727dab18037df63f3d16da490453",
     "grade": false,
     "grade_id": "k_smooth_model",
     "locked": false,
     "schema_version": 3,
     "solution": true,
     "task": false
    }
   },
   "outputs": [],
   "source": [
    "class KSmoothBigramModel(BigramModel):\n",
    "    \n",
    "    def __init__(self, sentences: List[List[str]], k: int):\n",
    "        '''\n",
    "        Takes in a list of sentences, where each sentence is a \n",
    "        list of words.\n",
    "        \n",
    "        Arguments:\n",
    "            sentences -- List of lists of words (e.g. [['I', 'have', 'a', 'dog'],\n",
    "                                                       ['a', 'dog', 'I', 'have']])\n",
    "            k         -- Smoothing parameter\n",
    "        '''\n",
    "        # Initialize the super class with the sentences\n",
    "        super().__init__(sentences)\n",
    "        self.k = k\n",
    "        self.N = sum(self.unigram_counts.values())\n",
    "        self.V = len(self.unigram_counts.keys())\n",
    "        \n",
    "    def unigram_count(self, word: str) -> int:\n",
    "        '''\n",
    "        Returns the unigram count for the word.\n",
    "        If the word does not exist in our corpus, return 0.\n",
    "        \n",
    "        Arguments:\n",
    "            word  -- word we want to know the count of\n",
    "        Returns:\n",
    "            count -- how often the word appears in the corpus\n",
    "        '''\n",
    "        \n",
    "        return (super().unigram_count(word)+self.k)*(self.N/(self.N+self.k*self.V))\n",
    "        \n",
    "    def bigram_count(self, word1:str, word2:str) -> int:\n",
    "        '''\n",
    "        Returns the bigram count for the word1 followed by word2.\n",
    "        If either of the words does not exist in our corpus, return 0.\n",
    "        \n",
    "        Arguments:\n",
    "            word1  -- first word of the bigram\n",
    "            word2  -- second word of the bigram\n",
    "        Returns:\n",
    "            count  -- how often the bigram appears in the corpus\n",
    "        '''\n",
    "        return (super().bigram_count(word1,word2)+self.k)*(self.N/(self.N+self.k*self.V))"
   ]
  },
  {
   "cell_type": "code",
   "execution_count": 17,
   "metadata": {
    "deletable": false,
    "editable": false,
    "nbgrader": {
     "cell_type": "code",
     "checksum": "50bf999694d8df9fdd5c9e69721a417d",
     "grade": true,
     "grade_id": "test_k_smooth_model",
     "locked": true,
     "points": 15,
     "schema_version": 3,
     "solution": false,
     "task": false
    }
   },
   "outputs": [],
   "source": [
    "# This is a test cell, please ignore it!"
   ]
  },
  {
   "cell_type": "markdown",
   "metadata": {
    "deletable": false,
    "editable": false,
    "nbgrader": {
     "cell_type": "markdown",
     "checksum": "b296d354ccb27c705415db22a5d682c5",
     "grade": false,
     "grade_id": "k_perplexity_description",
     "locked": true,
     "schema_version": 3,
     "solution": false,
     "task": false
    }
   },
   "source": [
    "## 2.4) Perplexity with different values of k [5 Points]\n",
    "\n",
    "Calculate the perplexity for the test sentence once with your original model (or the new model with k set to 0) and once with k set to 15.\n",
    "\n",
    "Store your solution in the variables ```perplexity_0k``` and ```perplexity_15k```."
   ]
  },
  {
   "cell_type": "code",
   "execution_count": 18,
   "metadata": {
    "deletable": false,
    "nbgrader": {
     "cell_type": "code",
     "checksum": "ae78b4af99eafc1f86f305fbb141f39e",
     "grade": false,
     "grade_id": "k_perplexity",
     "locked": false,
     "schema_version": 3,
     "solution": true,
     "task": false
    }
   },
   "outputs": [
    {
     "name": "stdout",
     "output_type": "stream",
     "text": [
      "The perplexity for the test sentence is:\n",
      "k=0 : 24.20.\n",
      "k=15: 11.38\n"
     ]
    }
   ],
   "source": [
    "test_set = ['<s>', 'She', 'said', '.', '</s>']\n",
    "\n",
    "perplexity_0k = 0\n",
    "perplexity_15k = 0\n",
    "\n",
    "# model = BigramModel(gutenberg.sents('austen-emma.txt'))\n",
    "model = KSmoothBigramModel(gutenberg.sents('austen-emma.txt'),0)\n",
    "perplexity_0k = (1/(model.sentence_probability(test_set)))**(1/(len(test_set)-1))\n",
    "\n",
    "model = KSmoothBigramModel(gutenberg.sents('austen-emma.txt'), 15)\n",
    "perplexity_15k = (1/model.sentence_probability(test_set))**(1/(len(test_set)-1))\n",
    "\n",
    "\n",
    "print('The perplexity for the test sentence is:\\n\\\n",
    "k=0 : {:.2f}.\\n\\\n",
    "k=15: {:.2f}'.format(\n",
    "    perplexity_0k,\n",
    "    perplexity_15k\n",
    "))"
   ]
  },
  {
   "cell_type": "code",
   "execution_count": 19,
   "metadata": {
    "deletable": false,
    "editable": false,
    "nbgrader": {
     "cell_type": "code",
     "checksum": "9d92b6f775626d2e0b0487d5f14c431e",
     "grade": true,
     "grade_id": "test_k_perplexity",
     "locked": true,
     "points": 5,
     "schema_version": 3,
     "solution": false,
     "task": false
    }
   },
   "outputs": [],
   "source": [
    "# This is a test cell, please ignore it!"
   ]
  },
  {
   "cell_type": "markdown",
   "metadata": {
    "deletable": false,
    "editable": false,
    "nbgrader": {
     "cell_type": "markdown",
     "checksum": "052833ef6e2cfd5deb079cc2785ca352",
     "grade": false,
     "grade_id": "perplexity_reason_description",
     "locked": true,
     "schema_version": 3,
     "solution": false,
     "task": false
    }
   },
   "source": [
    "## 2.5) Perplexity with different values of k / Reasons [10 Points]\n",
    "\n",
    "Why does the perplexity change with different values of k? Which one (k=0 or k=15) is favorable?\n",
    "\n",
    "Please explain."
   ]
  },
  {
   "cell_type": "markdown",
   "metadata": {
    "deletable": false,
    "nbgrader": {
     "cell_type": "markdown",
     "checksum": "8a8875bf58523a6debab576dd14b8e7c",
     "grade": true,
     "grade_id": "perplexity_reason",
     "locked": false,
     "points": 0,
     "schema_version": 3,
     "solution": true,
     "task": false
    }
   },
   "source": [
    "The perplexity on a test set is the inverse probability of the test set normalized by the number of words. The higher the conditional probability of the word sequence, the lower the perplexity. Thus, minimizing perplexity is equivalent to maximizing the test set probability according to the language model. The lower the perplexity, the closer we are to the true model.\n",
    "\n",
    "Maximum likelihood estimation based probability estimation assigns a zero probability to unseen events. To handle unseen N-grams, smoothing is used. One of the smoothing methods is k-smoothing. The perplexity changes with the k value because, the k value is the counts added to the unigram or bigram counts for smoothing operation. This shave off a bit of probability\n",
    "mass from some more frequent events and give it to the events we’ve never seen. This changes the perplexity value. The favourable k value depends on how many zero counts are present in the test data for evaluating a model. In this scenario, k=15 is better because on the test set, the perplexity is lower than k=0."
   ]
  },
  {
   "cell_type": "code",
   "execution_count": 20,
   "metadata": {
    "deletable": false,
    "editable": false,
    "nbgrader": {
     "cell_type": "code",
     "checksum": "a6041d5f2ef893eabdaeda0cea50947d",
     "grade": true,
     "grade_id": "test_perplexity_reason",
     "locked": true,
     "points": 10,
     "schema_version": 3,
     "solution": false,
     "task": false
    }
   },
   "outputs": [],
   "source": [
    "# This is a test cell, please ignore it!"
   ]
  }
 ],
 "metadata": {
  "kernelspec": {
   "display_name": "Python (study)",
   "language": "python",
   "name": "study"
  },
  "language_info": {
   "codemirror_mode": {
    "name": "ipython",
    "version": 3
   },
   "file_extension": ".py",
   "mimetype": "text/x-python",
   "name": "python",
   "nbconvert_exporter": "python",
   "pygments_lexer": "ipython3",
   "version": "3.5.6"
  }
 },
 "nbformat": 4,
 "nbformat_minor": 4
}
